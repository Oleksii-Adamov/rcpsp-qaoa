{
 "cells": [
  {
   "cell_type": "markdown",
   "metadata": {
    "id": "A6fMLiQ_qpDj",
    "pycharm": {
     "name": "#%% md\n"
    }
   },
   "source": [
    "#Imports"
   ]
  },
  {
   "cell_type": "code",
   "execution_count": 1,
   "metadata": {
    "colab": {
     "base_uri": "https://localhost:8080/"
    },
    "id": "-oQOHayIHER1",
    "outputId": "8d02adfc-9838-44d6-9efa-435e4942c1e0",
    "pycharm": {
     "name": "#%%\n"
    }
   },
   "outputs": [],
   "source": [
    "# !pip install amazon-braket-sdk"
   ]
  },
  {
   "cell_type": "code",
   "execution_count": 2,
   "metadata": {
    "id": "tIjN0cCpqqtD",
    "tags": [],
    "pycharm": {
     "name": "#%%\n"
    }
   },
   "outputs": [],
   "source": [
    "from matplotlib import pyplot as plt\n",
    "import networkx as nx\n",
    "import numpy as np\n",
    "import time\n",
    "from braket.aws import AwsDevice\n",
    "from braket.circuits import Circuit\n",
    "from braket.circuits.circuit import subroutine\n",
    "from braket.devices import LocalSimulator\n",
    "from braket.parametric import FreeParameter\n",
    "from scipy.optimize import minimize\n",
    "import pickle\n",
    "from datetime import datetime\n",
    "import pylab as pl\n",
    "from matplotlib import collections  as mc\n",
    "from braket.tracking import Tracker"
   ]
  },
  {
   "cell_type": "markdown",
   "metadata": {
    "id": "LXkQpiUzqsUW",
    "pycharm": {
     "name": "#%% md\n"
    }
   },
   "source": [
    "#Problem digitalization (e.g input data for RCPSP)"
   ]
  },
  {
   "cell_type": "code",
   "execution_count": 3,
   "metadata": {
    "id": "JEANXSf2W-e-",
    "tags": [],
    "pycharm": {
     "name": "#%%\n"
    }
   },
   "outputs": [],
   "source": [
    "# activies numeration should start from 1\n",
    "\n",
    "real_num_activities = 3\n",
    "T = 4\n",
    "precedence_graph_edges = np.array([[2, 3], [1, 3]])\n",
    "activity_processing_time = np.array([1, 1, 2])\n",
    "resourse_capacity = np.array([3, 3, 4])\n",
    "resourse_consumption = np.array([[1, 2, 1], [0, 3, 1], [1, 1, 3]])\n",
    "number_of_recourses = resourse_capacity.shape[0]\n",
    "\n",
    "# real_num_activities = 3\n",
    "# T = 5\n",
    "# precedence_graph_edges = np.array([[2, 3], [1, 3]])\n",
    "# activity_processing_time = np.array([1, 2, 2])\n",
    "# resourse_capacity = np.array([3, 3, 4])\n",
    "# resourse_consumption = np.array([[1, 2, 1], [0, 1, 1], [1, 1, 3]])\n",
    "# number_of_recourses = resourse_capacity.shape[0]"
   ]
  },
  {
   "cell_type": "markdown",
   "metadata": {
    "id": "R2nnam_rinwo",
    "pycharm": {
     "name": "#%% md\n"
    }
   },
   "source": [
    "Add dummy activities"
   ]
  },
  {
   "cell_type": "code",
   "execution_count": 4,
   "metadata": {
    "id": "8ZSUKfsNp3WR",
    "tags": [],
    "pycharm": {
     "name": "#%%\n"
    }
   },
   "outputs": [],
   "source": [
    "def add_smart_dummy_activities_no_start(real_num_activities, precedence_graph_edges, activity_processing_time, resourse_consumption):\n",
    "    num_activities = real_num_activities\n",
    "    starting_activity = None\n",
    "    end_activity = None\n",
    "\n",
    "    has_outcoming = [False] * (real_num_activities+1)\n",
    "    has_incoming = [False] * (real_num_activities+1)\n",
    "    for edge in precedence_graph_edges:\n",
    "        has_outcoming[int(edge[0])] = True\n",
    "        has_incoming[int(edge[1])] = True\n",
    "    # mark 0 index True, so it won't be counted\n",
    "    has_incoming[0] = True\n",
    "    has_outcoming[0] = True\n",
    "    to_insert_start_activity = has_incoming.count(False) > 1\n",
    "    to_insert_end_activity = has_outcoming.count(False) > 1\n",
    "    for i in range(1, real_num_activities+1):\n",
    "        if to_insert_end_activity and not has_outcoming[i]:\n",
    "            precedence_graph_edges = np.concatenate([precedence_graph_edges, [[i, real_num_activities+1]]])\n",
    "        if not to_insert_start_activity and not has_incoming[i]:\n",
    "            starting_activity = i\n",
    "        if not to_insert_end_activity and not has_outcoming[i]:\n",
    "            end_activity = i\n",
    "\n",
    "    if to_insert_end_activity:\n",
    "        print(\"inserted end activity\")\n",
    "        num_activities += 1\n",
    "        activity_processing_time = np.concatenate([activity_processing_time, [0]])\n",
    "        resourse_consumption = np.concatenate([resourse_consumption, [[0] * number_of_recourses]])\n",
    "        end_activity = real_num_activities+1\n",
    "\n",
    "    # shift numeration to be from zero\n",
    "    if not starting_activity is None:\n",
    "        starting_activity -= 1\n",
    "    end_activity -= 1\n",
    "    for edge in precedence_graph_edges:\n",
    "        edge[0] -= 1\n",
    "        edge[1] -= 1\n",
    "\n",
    "    return num_activities, precedence_graph_edges, activity_processing_time, resourse_consumption, starting_activity, end_activity"
   ]
  },
  {
   "cell_type": "code",
   "execution_count": 5,
   "metadata": {
    "id": "MXuPdZtmqekw",
    "pycharm": {
     "name": "#%%\n"
    }
   },
   "outputs": [],
   "source": [
    "num_activities, precedence_graph_edges, activity_processing_time, resourse_consumption, starting_activity, end_activity = add_smart_dummy_activities_no_start(real_num_activities, precedence_graph_edges, activity_processing_time, resourse_consumption)"
   ]
  },
  {
   "cell_type": "markdown",
   "metadata": {
    "id": "0nCPSpI3fAgy",
    "pycharm": {
     "name": "#%% md\n"
    }
   },
   "source": [
    "#Calculating time windows"
   ]
  },
  {
   "cell_type": "code",
   "execution_count": 6,
   "metadata": {
    "id": "FZfGQqXY51h_",
    "pycharm": {
     "name": "#%%\n"
    }
   },
   "outputs": [],
   "source": [
    "def longest_paths_in_postive_graph(G, weigth_func):\n",
    "    # find shortest path for -G, O(V+E)\n",
    "    topological_order = list(nx.topological_sort(G)) # Kahn's algorithm (incoming degrees), O(V+E)\n",
    "    # all incoming weights are non-negative, because of reverse sign of weights, zero weight path is max\n",
    "    shortest_path = np.full_like(activity_processing_time, 0)\n",
    "    for node in topological_order:\n",
    "        for neighbor in G[node]:\n",
    "            if not neighbor is None and shortest_path[neighbor] > shortest_path[node] - weigth_func(node, neighbor):\n",
    "                shortest_path[neighbor] = shortest_path[node] - weigth_func(node, neighbor)\n",
    "    return -shortest_path"
   ]
  },
  {
   "cell_type": "code",
   "execution_count": 7,
   "metadata": {
    "id": "vuiwiYEA8div",
    "pycharm": {
     "name": "#%%\n"
    }
   },
   "outputs": [],
   "source": [
    "def calculate_time_windows(precedence_graph_edges, end_activity):\n",
    "    # calculate earliest start\n",
    "    # by finding longest paths from source (start activity) to every node, weights - activity processing time\n",
    "    precedence_graph_edges_with_start_activity = np.copy(precedence_graph_edges)\n",
    "    if starting_activity is None:\n",
    "        precedence_graph_edges_with_start_activity = np.concatenate([[np.array([-1, i]) for i in range(0, num_activities)], precedence_graph_edges_with_start_activity])\n",
    "    G = nx.from_edgelist(precedence_graph_edges_with_start_activity, create_using=nx.DiGraph)\n",
    "    earliest_start = longest_paths_in_postive_graph(G, lambda u, v: activity_processing_time[u] if u > -1 else 0)\n",
    "    # calculate latest start\n",
    "    latest_start = np.full_like(activity_processing_time, 0)\n",
    "    for activity in range(0, num_activities):\n",
    "        descendants = []\n",
    "        if G.has_node(activity):\n",
    "            descendants = nx.descendants(G, activity)\n",
    "        for activity2 in range(0, num_activities):\n",
    "            if not (activity2 in descendants):\n",
    "                latest_start[activity] += activity_processing_time[activity2]\n",
    "        latest_start[activity] = min(T, latest_start[activity])\n",
    "\n",
    "    return earliest_start, latest_start"
   ]
  },
  {
   "cell_type": "code",
   "execution_count": 8,
   "metadata": {
    "id": "oibpYzeX9xS8",
    "pycharm": {
     "name": "#%%\n"
    }
   },
   "outputs": [],
   "source": [
    "earliest_start, latest_start = calculate_time_windows(precedence_graph_edges, end_activity)\n",
    "T = latest_start[end_activity]"
   ]
  },
  {
   "cell_type": "markdown",
   "metadata": {
    "id": "MvfAjf6NsBCW",
    "pycharm": {
     "name": "#%% md\n"
    }
   },
   "source": [
    "# QUBO variables, objective and penalties"
   ]
  },
  {
   "cell_type": "markdown",
   "metadata": {
    "id": "YtVEqPd_XfYt",
    "pycharm": {
     "name": "#%% md\n"
    }
   },
   "source": [
    "## Variables"
   ]
  },
  {
   "cell_type": "code",
   "execution_count": 9,
   "metadata": {
    "id": "J6Hru6I21HGp",
    "pycharm": {
     "name": "#%%\n"
    }
   },
   "outputs": [],
   "source": [
    "number_of_activities_variables = 0\n",
    "for i in range(0, num_activities):\n",
    "    number_of_activities_variables += latest_start[i] - earliest_start[i] + 1"
   ]
  },
  {
   "cell_type": "code",
   "execution_count": 10,
   "metadata": {
    "id": "PtSSr1vnsC-X",
    "pycharm": {
     "name": "#%%\n"
    }
   },
   "outputs": [],
   "source": [
    "number_of_variables = number_of_activities_variables"
   ]
  },
  {
   "cell_type": "code",
   "execution_count": 11,
   "metadata": {
    "colab": {
     "base_uri": "https://localhost:8080/"
    },
    "id": "DXegTLB6CesT",
    "outputId": "b6b3c739-abfd-4515-db28-9b6d85687f31",
    "pycharm": {
     "name": "#%%\n"
    }
   },
   "outputs": [
    {
     "data": {
      "text/plain": [
       "10"
      ]
     },
     "execution_count": 11,
     "metadata": {},
     "output_type": "execute_result"
    }
   ],
   "source": [
    "number_of_variables"
   ]
  },
  {
   "cell_type": "code",
   "execution_count": 12,
   "metadata": {
    "id": "xwrAjzmeR5nd",
    "pycharm": {
     "name": "#%%\n"
    }
   },
   "outputs": [],
   "source": [
    "activity_time_index_start = np.empty_like(activity_processing_time)\n",
    "cur_index = 0\n",
    "for i in range(0, num_activities):\n",
    "    activity_time_index_start[i] = cur_index\n",
    "    cur_index += latest_start[i] - earliest_start[i] + 1"
   ]
  },
  {
   "cell_type": "code",
   "execution_count": 13,
   "metadata": {
    "id": "ELmb4GTb28eG",
    "pycharm": {
     "name": "#%%\n"
    }
   },
   "outputs": [],
   "source": [
    "def activity_time_to_index(activity_index, time_index):\n",
    "    assert(time_index >= earliest_start[activity_index] and time_index <= latest_start[activity_index])\n",
    "    return activity_time_index_start[activity_index] + time_index - earliest_start[activity_index]"
   ]
  },
  {
   "cell_type": "code",
   "execution_count": 14,
   "metadata": {
    "id": "a9DhNQgzzZTC",
    "pycharm": {
     "name": "#%%\n"
    }
   },
   "outputs": [],
   "source": [
    "def from_index_to_activity_time(index):\n",
    "    for i in range(0, num_activities):\n",
    "        if index >= activity_time_index_start[i] and index <= activity_time_index_start[i] + latest_start[i] - earliest_start[i]:\n",
    "            return i, earliest_start[i] + index - activity_time_index_start[i]"
   ]
  },
  {
   "cell_type": "markdown",
   "metadata": {
    "id": "IPvnGR-jXlIu",
    "pycharm": {
     "name": "#%% md\n"
    }
   },
   "source": [
    "## Objective function"
   ]
  },
  {
   "cell_type": "code",
   "execution_count": 15,
   "metadata": {
    "id": "SPKmppVj2Om2",
    "pycharm": {
     "name": "#%%\n"
    }
   },
   "outputs": [],
   "source": [
    "def add_objective_function(Q, last_activity):\n",
    "    for t in range(earliest_start[last_activity], latest_start[last_activity]+1):\n",
    "        i = activity_time_to_index(num_activities - 1, t)\n",
    "        Q[i, i] += t"
   ]
  },
  {
   "cell_type": "markdown",
   "metadata": {
    "id": "zFto3XZYYLEq",
    "pycharm": {
     "name": "#%% md\n"
    }
   },
   "source": [
    "## Each activity starts 1 time constraint"
   ]
  },
  {
   "cell_type": "code",
   "execution_count": 16,
   "metadata": {
    "id": "ZSawwGl7YS2Z",
    "pycharm": {
     "name": "#%%\n"
    }
   },
   "outputs": [],
   "source": [
    "def add_activity_one_start_penalty(Q, offset, penalty_coef):\n",
    "    for activity in range(0, num_activities):\n",
    "        for t1 in range(earliest_start[activity], latest_start[activity]+1):\n",
    "            for t2 in range(earliest_start[activity], latest_start[activity]+1):\n",
    "                i = activity_time_to_index(activity, t1)\n",
    "                j = activity_time_to_index(activity, t2)\n",
    "                if i > j:\n",
    "                    i, j = j, i\n",
    "                Q[i, j] += penalty_coef\n",
    "            i = activity_time_to_index(activity, t1)\n",
    "            Q[i, i] -= 2*penalty_coef\n",
    "    offset += num_activities * penalty_coef\n",
    "    return offset"
   ]
  },
  {
   "cell_type": "markdown",
   "metadata": {
    "id": "Hd8r5qibMzvU",
    "pycharm": {
     "name": "#%% md\n"
    }
   },
   "source": [
    "## Precedence constraint"
   ]
  },
  {
   "cell_type": "code",
   "execution_count": 17,
   "metadata": {
    "id": "iJ9HUBr_NxBX",
    "pycharm": {
     "name": "#%%\n"
    }
   },
   "outputs": [],
   "source": [
    "def add_precedence_penalty(Q, penalty_coef):\n",
    "    for edge in precedence_graph_edges:\n",
    "        from_activity = edge[0]\n",
    "        to_activity = edge[1]\n",
    "        for t1 in range(earliest_start[from_activity], latest_start[from_activity]+1):\n",
    "            for t2 in range(earliest_start[to_activity], min(t1 + activity_processing_time[from_activity], latest_start[to_activity]+1)):\n",
    "                i = activity_time_to_index(from_activity, t1)\n",
    "                j = activity_time_to_index(to_activity, t2)\n",
    "                if i > j:\n",
    "                    i, j = j, i\n",
    "                Q[i, j] += penalty_coef"
   ]
  },
  {
   "cell_type": "markdown",
   "metadata": {
    "id": "cU9Q8C3xvYiw",
    "pycharm": {
     "name": "#%% md\n"
    }
   },
   "source": [
    "## Unbalanced Resource constraints"
   ]
  },
  {
   "cell_type": "code",
   "execution_count": 18,
   "metadata": {
    "id": "lWnHiTinveHz",
    "pycharm": {
     "name": "#%%\n"
    }
   },
   "outputs": [],
   "source": [
    "def add_unbalanced_resourse_penalty(Q, offset, penalty_coef1, penalty_coef2):\n",
    "    for t in range(0, latest_start[end_activity]+1):\n",
    "        for k in range(0, number_of_recourses):\n",
    "            for i1 in range(0, num_activities):\n",
    "                for i2 in range(0, num_activities):\n",
    "                    for r1 in range(max(t - activity_processing_time[i1] + 1, earliest_start[i1]), min(t, latest_start[i1])+1):\n",
    "                        for r2 in range(max(t - activity_processing_time[i2] + 1, earliest_start[i2]), min(t, latest_start[i2])+1):\n",
    "                            i = activity_time_to_index(i1, r1)\n",
    "                            j = activity_time_to_index(i2, r2)\n",
    "                            if i > j:\n",
    "                                i, j = j, i\n",
    "                            Q[i, j] += penalty_coef2 * resourse_consumption[i1, k] * resourse_consumption[i2, k]\n",
    "            for i1 in range(0, num_activities):\n",
    "                for r in range(max(t - activity_processing_time[i1] + 1, earliest_start[i1]), min(t, latest_start[i1])+1):\n",
    "                    i = activity_time_to_index(i1, r)\n",
    "                    Q[i, i] += (penalty_coef1 - 2 * resourse_capacity[k]  * penalty_coef2) * resourse_consumption[i1, k]\n",
    "            offset += penalty_coef2 * resourse_capacity[k] ** 2 - penalty_coef1 * resourse_capacity[k]\n",
    "    return offset"
   ]
  },
  {
   "cell_type": "markdown",
   "metadata": {
    "id": "J0PC165kHHoR",
    "pycharm": {
     "name": "#%% md\n"
    }
   },
   "source": [
    "# QUBO formation"
   ]
  },
  {
   "cell_type": "code",
   "execution_count": 19,
   "metadata": {
    "id": "C4FCfAtmNkJ0",
    "pycharm": {
     "name": "#%%\n"
    }
   },
   "outputs": [],
   "source": [
    "def form_RCPSP_QUBO(resourse_penalty1, resourse_penalty2):\n",
    "    Q = np.zeros((number_of_variables, number_of_variables))\n",
    "    qubo_offset = 0.0\n",
    "    add_objective_function(Q, end_activity)\n",
    "    qubo_offset = add_unbalanced_resourse_penalty(Q, qubo_offset, resourse_penalty1, resourse_penalty2)\n",
    "    one_start_penalty = abs(max(Q.min(), Q.max(), key=abs)) * 2\n",
    "    precedence_penalty = one_start_penalty\n",
    "    qubo_offset = add_activity_one_start_penalty(Q, qubo_offset, one_start_penalty)\n",
    "    add_precedence_penalty(Q, precedence_penalty)\n",
    "    return Q, qubo_offset, one_start_penalty, precedence_penalty"
   ]
  },
  {
   "cell_type": "code",
   "execution_count": 20,
   "metadata": {
    "id": "onrn4Tbxm-sN",
    "pycharm": {
     "name": "#%%\n"
    }
   },
   "outputs": [],
   "source": [
    "resourse_penalty1, resourse_penalty2 = 0.11, 0.0833 # for more than 4 activities\n",
    "if real_num_activities < 5:\n",
    "    resourse_penalty1, resourse_penalty2 = 0.53, 0.125"
   ]
  },
  {
   "cell_type": "code",
   "execution_count": 21,
   "metadata": {
    "id": "m7UVK_MEONJP",
    "pycharm": {
     "name": "#%%\n"
    }
   },
   "outputs": [],
   "source": [
    "Q, qubo_offset, one_start_penalty, precedence_penalty = form_RCPSP_QUBO(resourse_penalty1, resourse_penalty2)"
   ]
  },
  {
   "cell_type": "markdown",
   "metadata": {
    "id": "TiTvUW34RSYm",
    "pycharm": {
     "name": "#%% md\n"
    }
   },
   "source": [
    "# To Ising"
   ]
  },
  {
   "cell_type": "code",
   "execution_count": 22,
   "metadata": {
    "id": "PH_mUQZrcCSN",
    "pycharm": {
     "name": "#%%\n"
    }
   },
   "outputs": [],
   "source": [
    "def from_Q_to_Ising(Q, offset):\n",
    "    ising_offset = np.copy(offset)\n",
    "    n_var = len(Q)  # Get the number of variables in the QUBO matrix\n",
    "\n",
    "    h = np.zeros((n_var))\n",
    "    J = np.zeros((n_var, n_var))\n",
    "\n",
    "    # Loop over each variable in the QUBO matrix\n",
    "    for i in range(n_var):\n",
    "        # Update the magnetic field for qubit i based on its diagonal element in Q\n",
    "        h[i] -= Q[i, i] / 2\n",
    "        # Update the offset based on the diagonal element in Q\n",
    "        ising_offset += Q[i, i] / 2\n",
    "        # Loop over other variables to calculate pairwise interactions\n",
    "        for j in range(i + 1, n_var):\n",
    "            # Update the pairwise interaction strength (J) between variables i and j\n",
    "            J[i, j] += Q[i, j] / 4\n",
    "            # Update the magnetic fields for variables i and j based on their interactions in Q\n",
    "            h[i] -= Q[i, j] / 4\n",
    "            h[j] -= Q[i, j] / 4\n",
    "            # Update the offset based on the interaction strength between variables i and j\n",
    "            ising_offset += Q[i, j] / 4\n",
    "    # Return the magnetic fields, pairwise interactions, and the updated offset\n",
    "    return h, J, ising_offset"
   ]
  },
  {
   "cell_type": "code",
   "execution_count": 23,
   "metadata": {
    "id": "J_rT4012EfBA",
    "pycharm": {
     "name": "#%%\n"
    }
   },
   "outputs": [],
   "source": [
    "h, J, ising_offset = from_Q_to_Ising(Q, qubo_offset)"
   ]
  },
  {
   "cell_type": "markdown",
   "metadata": {
    "id": "K-dUnFd_8gBq",
    "pycharm": {
     "name": "#%% md\n"
    }
   },
   "source": [
    "# QAOA"
   ]
  },
  {
   "cell_type": "code",
   "execution_count": 24,
   "metadata": {
    "id": "PhInrjJM5r0y",
    "pycharm": {
     "name": "#%%\n"
    }
   },
   "outputs": [],
   "source": [
    "cost_tracker = Tracker().start()"
   ]
  },
  {
   "cell_type": "markdown",
   "metadata": {
    "id": "bnN2Nk9CPfTp",
    "pycharm": {
     "name": "#%% md\n"
    }
   },
   "source": [
    "## Helpers"
   ]
  },
  {
   "cell_type": "code",
   "execution_count": 25,
   "metadata": {
    "id": "gMcFKU6BWCTd",
    "pycharm": {
     "name": "#%%\n"
    }
   },
   "outputs": [],
   "source": [
    "def is_np_array_in_list(val, array_list):\n",
    "    for array in array_list:\n",
    "        if np.allclose(array, val):\n",
    "            return True\n",
    "    return False"
   ]
  },
  {
   "cell_type": "code",
   "execution_count": 26,
   "metadata": {
    "id": "7pnQ58QSHKCv",
    "pycharm": {
     "name": "#%%\n"
    }
   },
   "outputs": [],
   "source": [
    "# the testing ones\n",
    "if real_num_activities == 3 and T == 4:\n",
    "    known_optimal_solutions = [-2*np.array([0, 1, 0, 1, 0, 0, 0, 1, 0, 0])+1, -2*np.array([1, 0, 0, 0, 1, 0, 0, 1, 0, 0])+1]\n",
    "if real_num_activities == 3 and T == 5:\n",
    "    known_optimal_solutions = [-2*np.array([0, 1, 0, 0, 1, 0, 0, 0, 1, 0, 0, 0])+1,\n",
    " np.array([1, 0, 0, 0, 1, 0, 0, 0, 1, 0, 0, 0])+1]"
   ]
  },
  {
   "cell_type": "code",
   "execution_count": 27,
   "metadata": {
    "id": "2f4pV3Swmm1T",
    "pycharm": {
     "name": "#%%\n"
    }
   },
   "outputs": [],
   "source": [
    "def save_tracker_to_file(tracker, name):\n",
    "    # store results: dump output to pickle with timestamp in filename\n",
    "    time_now = datetime.strftime(datetime.now(), '%Y%m%d%H%M%S')\n",
    "    results_file = name + '-'+time_now+'.pkl'\n",
    "    print(f'Writing results to file: {results_file}')\n",
    "    pickle.dump(tracker, open(results_file, \"wb\"))"
   ]
  },
  {
   "cell_type": "markdown",
   "metadata": {
    "id": "4U5bZDhaVQxd",
    "pycharm": {
     "name": "#%% md\n"
    }
   },
   "source": [
    "## Circuit"
   ]
  },
  {
   "cell_type": "code",
   "execution_count": 28,
   "metadata": {
    "id": "cSqpOswGHQO2",
    "pycharm": {
     "name": "#%%\n"
    }
   },
   "outputs": [],
   "source": [
    "@subroutine(register=True)\n",
    "def mixer_layer(beta, n_qubits):\n",
    "    \"\"\"\n",
    "    Returns circuit for mixer Hamiltonian U(Hb, beta)\n",
    "    \"\"\"\n",
    "    # instantiate circuit object\n",
    "    circ = Circuit()\n",
    "\n",
    "    # apply parametrized rotation around x to every qubit\n",
    "    for qubit in range(n_qubits):\n",
    "        gate = Circuit().rx(qubit, 2 * beta)\n",
    "        circ.add(gate)\n",
    "\n",
    "    return circ\n",
    "\n",
    "\n",
    "@subroutine(register=True)\n",
    "def cost_layer(gamma, n_qubits, h_ising, J_ising):\n",
    "    \"\"\"\n",
    "    returns circuit for evolution with cost Hamiltonian\n",
    "    \"\"\"\n",
    "    # instantiate circuit object\n",
    "    circ = Circuit()\n",
    "\n",
    "    for qubit in range(h_ising.shape[0]):  # single-qubit terms\n",
    "        if abs(h_ising[qubit]) > 1e-3:\n",
    "            gate = Circuit().rz(qubit, 2 * gamma * h_ising[qubit])\n",
    "            circ.add(gate)\n",
    "\n",
    "    # two-qubit terms\n",
    "    for qubit1 in range(0, J_ising.shape[0]):\n",
    "        for qubit2 in range(qubit1 + 1, J_ising.shape[1]):\n",
    "            if abs(J_ising[qubit1, qubit2]) > 1e-3:\n",
    "                gate = Circuit().zz(qubit1, qubit2, angle=2 * gamma * J_ising[qubit1, qubit2])\n",
    "                circ.add(gate)\n",
    "\n",
    "    return circ\n",
    "\n",
    "@subroutine(register=True)\n",
    "def qaoa_circuit(params, device, n_qubits, h_ising, J_ising):\n",
    "    \"\"\"\n",
    "    function to return full QAOA circuit\n",
    "    \"\"\"\n",
    "\n",
    "    circ = Circuit()\n",
    "\n",
    "    H_on_all = Circuit().h(range(0, n_qubits))\n",
    "    circ.add(H_on_all)\n",
    "\n",
    "    # setup two parameter families\n",
    "    circuit_length = int(len(params) / 2)\n",
    "    gammas = params[:circuit_length]\n",
    "    betas = params[circuit_length:]\n",
    "\n",
    "    # add QAOA circuit layer blocks\n",
    "    for mm in range(circuit_length):\n",
    "        circ.cost_layer(gammas[mm], n_qubits, h_ising, J_ising)\n",
    "        circ.mixer_layer(betas[mm], n_qubits)\n",
    "\n",
    "    return circ"
   ]
  },
  {
   "cell_type": "markdown",
   "metadata": {
    "id": "3kaSiTSEHSVl",
    "pycharm": {
     "name": "#%% md\n"
    }
   },
   "source": [
    "## Cost function"
   ]
  },
  {
   "cell_type": "code",
   "execution_count": 29,
   "metadata": {
    "id": "yyltKNEo8jT4",
    "pycharm": {
     "name": "#%%\n"
    }
   },
   "outputs": [],
   "source": [
    "# function that computes cost function for given params\n",
    "def cost_function(params, qaoa_circuit, h_ising, J_ising, device, n_shots, tracker, verbose):\n",
    "    \"\"\"\n",
    "    cost function takes a list of variational parameters as input,\n",
    "    and returns the cost associated with those parameters\n",
    "    \"\"\"\n",
    "\n",
    "    if verbose:\n",
    "        print(\"==================================\" * 2)\n",
    "        print(\"Calling the quantum circuit. Cycle:\", tracker[\"count\"])\n",
    "\n",
    "    # create parameter dict\n",
    "    params_dict = {str(fp): p for fp, p in zip(qaoa_circuit.parameters, params)}\n",
    "\n",
    "    # execute\n",
    "    task = device.run(qaoa_circuit, shots=n_shots, inputs=params_dict)\n",
    "    result = task.result()\n",
    "    meas_ising = -2*result.measurements + 1\n",
    "    all_energies = np.diag(meas_ising @ J_ising @ meas_ising.T) + meas_ising @ h_ising\n",
    "    # find minimum and corresponding classical string\n",
    "    energy_min = np.min(all_energies)\n",
    "    optimal_string = meas_ising[np.argmin(all_energies)]\n",
    "    energy_expect = np.sum(all_energies) / n_shots\n",
    "\n",
    "\n",
    "    tracker[\"opt_energies\"].append(energy_min)\n",
    "    tracker[\"opt_ising_bitstrings\"].append(optimal_string)\n",
    "\n",
    "\n",
    "    # store global minimum\n",
    "    tracker[\"global_energies\"].append(tracker[\"optimal_energy\"])\n",
    "\n",
    "    braket_tasks_cost = cost_tracker.qpu_tasks_cost() + cost_tracker.simulator_tasks_cost()\n",
    "\n",
    "    if verbose:\n",
    "        print(\"Minimal energy:\", energy_min)\n",
    "        print(\"Optimal classical string:\", optimal_string)\n",
    "        print(\"Energy expectation value (cost):\", energy_expect)\n",
    "        print(\"Parameters:\", params)\n",
    "        print(\"Cost so far (USD dollars):\", braket_tasks_cost)\n",
    "\n",
    "    # update tracker\n",
    "    braket_tasks_cost = cost_tracker.qpu_tasks_cost() + cost_tracker.simulator_tasks_cost()\n",
    "    tracker.update({\"count\": tracker[\"count\"] + 1, \"res\": result.measurements, 'job_cost': braket_tasks_cost})\n",
    "    tracker[\"costs\"].append(energy_expect)\n",
    "    tracker[\"params\"].append(params)\n",
    "\n",
    "    if tracker['min_energy_expect'] is None or energy_expect < tracker['min_energy_expect']:\n",
    "        tracker.update({\"min_energy_expect\": energy_expect})\n",
    "        tracker.update({\"opt_params\": params})\n",
    "\n",
    "    # store optimal (classical) result/bitstring\n",
    "    if energy_min < tracker[\"optimal_energy\"] or np.allclose(energy_min, tracker[\"optimal_energy\"]):\n",
    "        tracker.update({\"optimal_energy\": energy_min})\n",
    "        tracker.update({\"optimal_bitstring\": ((-optimal_string+1)/2)})\n",
    "        if is_np_array_in_list(optimal_string, known_optimal_solutions):\n",
    "            end = time.time()\n",
    "            tracker.update({\"time\": end - tracker[\"time\"]})\n",
    "            print(\"Found optimal!\")\n",
    "            raise RuntimeError(\"Found optimal solution\")\n",
    "\n",
    "    save_tracker_to_file(tracker, 'checkpoint' + str(tracker[\"count\"]))\n",
    "\n",
    "    return energy_expect"
   ]
  },
  {
   "cell_type": "markdown",
   "metadata": {
    "id": "8DriLJLpHgm7",
    "pycharm": {
     "name": "#%% md\n"
    }
   },
   "source": [
    "## Optimization (or training)"
   ]
  },
  {
   "cell_type": "code",
   "execution_count": 30,
   "metadata": {
    "id": "par6k0VOISZx",
    "pycharm": {
     "name": "#%%\n"
    }
   },
   "outputs": [],
   "source": [
    "# The function to execute the training: run classical minimization.\n",
    "def train(\n",
    "    device, options, p, h_ising, J_ising, n_qubits, n_shots, opt_method, tracker, gamma_initial, beta_initial, verbose=True\n",
    "):\n",
    "    \"\"\"\n",
    "    function to run QAOA algorithm for given, fixed circuit depth p\n",
    "    \"\"\"\n",
    "    print(\"Starting the training.\")\n",
    "\n",
    "    print(\"==================================\" * 2)\n",
    "    print(f\"OPTIMIZATION for circuit depth p={p}\")\n",
    "\n",
    "    if not verbose:\n",
    "        print('Param \"verbose\" set to False. Will not print intermediate steps.')\n",
    "        print(\"==================================\" * 2)\n",
    "\n",
    "    params0 = np.array(gamma_initial + beta_initial)\n",
    "\n",
    "    # set bounds for search space\n",
    "    bnds_gamma = [(0, 2 * np.pi) for _ in range(int(len(params0) / 2))]\n",
    "    bnds_beta = [(0, np.pi) for _ in range(int(len(params0) / 2))]\n",
    "    bnds = bnds_gamma + bnds_beta\n",
    "\n",
    "    gamma_params = [FreeParameter(f\"gamma_{i}\") for i in range(p)]\n",
    "    beta_params = [FreeParameter(f\"beta_{i}\") for i in range(p)]\n",
    "    params = gamma_params + beta_params\n",
    "    qaoa_circ = qaoa_circuit(params, device, n_qubits, h_ising, J_ising)\n",
    "    # run classical optimization\n",
    "    result = minimize(\n",
    "        cost_function,\n",
    "        params0,\n",
    "        args=(qaoa_circ, h_ising, J_ising, device, n_shots, tracker, verbose),\n",
    "        options=options,\n",
    "        method=opt_method,\n",
    "        bounds=bnds\n",
    "    )\n",
    "\n",
    "    # store result of classical optimization\n",
    "    result_energy = result.fun\n",
    "    result_angle = result.x\n",
    "\n",
    "    return result_energy, result_angle, tracker"
   ]
  },
  {
   "cell_type": "markdown",
   "metadata": {
    "id": "eD7XqWkcVV-x",
    "pycharm": {
     "name": "#%% md\n"
    }
   },
   "source": [
    "## Classical optimization"
   ]
  },
  {
   "cell_type": "code",
   "execution_count": 63,
   "metadata": {
    "id": "EN409gmQPIQ2",
    "pycharm": {
     "name": "#%%\n"
    }
   },
   "outputs": [],
   "source": [
    "#device = LocalSimulator()\n",
    "# device = AwsDevice(\"arn:aws:braket:::device/quantum-simulator/amazon/sv1\")\n",
    "device = AwsDevice(\"arn:aws:braket:us-east-1::device/qpu/ionq/Aria-1\")"
   ]
  },
  {
   "cell_type": "code",
   "execution_count": 70,
   "metadata": {
    "tags": [],
    "pycharm": {
     "name": "#%%\n"
    }
   },
   "outputs": [
    {
     "data": {
      "text/plain": [
       "QueueDepthInfo(quantum_tasks={<QueueType.NORMAL: 'Normal'>: '0', <QueueType.PRIORITY: 'Priority'>: '0'}, jobs='0')"
      ]
     },
     "execution_count": 70,
     "metadata": {},
     "output_type": "execute_result"
    }
   ],
   "source": [
    "device.queue_depth()"
   ]
  },
  {
   "cell_type": "code",
   "execution_count": 71,
   "metadata": {
    "colab": {
     "base_uri": "https://localhost:8080/"
    },
    "id": "XLvfAPm2OZms",
    "outputId": "3a6e093a-ee4e-4502-b3e3-f0eda3dd0434",
    "pycharm": {
     "name": "#%%\n"
    }
   },
   "outputs": [
    {
     "name": "stdout",
     "output_type": "stream",
     "text": [
      "energy_init 143.1975\n"
     ]
    }
   ],
   "source": [
    "# set up hyperparameters\n",
    "\n",
    "DEPTH = 1  # circuit depth for QAOA\n",
    "SHOTS = 100 # 100 # number measurements to make on circuit\n",
    "OPT_METHOD = 'Nelder-Mead'\n",
    "\n",
    "# set up the problem\n",
    "n_qubits = number_of_variables\n",
    "\n",
    "# initialize reference solution (simple guess)\n",
    "bitstring_init = -1 * np.ones([n_qubits])\n",
    "energy_init = bitstring_init @ J @ bitstring_init + h @ bitstring_init\n",
    "print(\"energy_init\", energy_init)\n",
    "\n",
    "max_func_eval = 50"
   ]
  },
  {
   "cell_type": "code",
   "execution_count": 72,
   "metadata": {
    "colab": {
     "base_uri": "https://localhost:8080/"
    },
    "id": "QCZ5emhlOarJ",
    "outputId": "70577470-2abe-4d99-f9ad-b21ef9d35d04",
    "pycharm": {
     "name": "#%%\n"
    }
   },
   "outputs": [
    {
     "name": "stdout",
     "output_type": "stream",
     "text": [
      "Starting the training.\n",
      "====================================================================\n",
      "OPTIMIZATION for circuit depth p=1\n",
      "====================================================================\n",
      "Calling the quantum circuit. Cycle: 0\n",
      "Minimal energy: -44.8075\n",
      "Optimal classical string: [-1  1  1 -1  1  1  1 -1  1  1]\n",
      "Energy expectation value (cost): 4.112600000000001\n",
      "Parameters: [6.07602768 1.71918081]\n",
      "Cost so far (USD dollars): 10.6275000000\n",
      "Writing results to file: checkpoint1-20240528210239.pkl\n",
      "====================================================================\n",
      "Calling the quantum circuit. Cycle: 1\n",
      "Minimal energy: -46.557500000000005\n",
      "Optimal classical string: [-1  1  1  1 -1  1  1 -1  1  1]\n",
      "Energy expectation value (cost): -1.30655\n",
      "Parameters: [6.18654155 1.71918081]\n",
      "Cost so far (USD dollars): 13.9275000000\n",
      "Found optimal!\n",
      "Writing results to file: results-20240528213605.pkl\n",
      "Results:\n",
      "{'count': 2, 'optimal_energy': -46.557500000000005, 'opt_energies': [-44.8075, -46.557500000000005], 'global_energies': [143.1975, -44.8075], 'optimal_bitstring': array([1., 0., 0., 0., 1., 0., 0., 1., 0., 0.]), 'opt_ising_bitstrings': [array([-1,  1,  1, -1,  1,  1,  1, -1,  1,  1]), array([-1,  1,  1,  1, -1,  1,  1, -1,  1,  1])], 'costs': [4.112600000000001, -1.30655], 'res': array([[0, 0, 0, 0, 0, 0, 0, 0, 0, 0],\n",
      "       [1, 1, 0, 0, 0, 0, 0, 0, 0, 0],\n",
      "       [1, 0, 1, 1, 0, 0, 0, 0, 0, 0],\n",
      "       [1, 1, 1, 1, 0, 0, 0, 0, 0, 0],\n",
      "       [1, 0, 0, 1, 1, 0, 0, 0, 0, 0],\n",
      "       [0, 1, 0, 1, 1, 0, 0, 0, 0, 0],\n",
      "       [0, 1, 0, 1, 1, 0, 0, 0, 0, 0],\n",
      "       [0, 0, 1, 1, 1, 0, 0, 0, 0, 0],\n",
      "       [0, 0, 0, 1, 0, 1, 0, 0, 0, 0],\n",
      "       [1, 0, 1, 0, 1, 0, 1, 0, 0, 0],\n",
      "       [1, 0, 0, 1, 1, 0, 1, 0, 0, 0],\n",
      "       [1, 1, 1, 1, 1, 0, 1, 0, 0, 0],\n",
      "       [0, 0, 0, 1, 0, 1, 1, 0, 0, 0],\n",
      "       [1, 1, 0, 1, 1, 1, 1, 0, 0, 0],\n",
      "       [1, 0, 0, 0, 0, 0, 0, 1, 0, 0],\n",
      "       [0, 0, 0, 1, 0, 0, 0, 1, 0, 0],\n",
      "       [1, 0, 0, 0, 1, 0, 0, 1, 0, 0],\n",
      "       [0, 0, 0, 1, 1, 0, 0, 1, 0, 0],\n",
      "       [0, 1, 0, 1, 1, 0, 0, 1, 0, 0],\n",
      "       [1, 0, 1, 0, 0, 1, 0, 1, 0, 0],\n",
      "       [0, 1, 1, 1, 0, 1, 0, 1, 0, 0],\n",
      "       [1, 0, 0, 1, 0, 0, 1, 1, 0, 0],\n",
      "       [1, 0, 1, 1, 1, 0, 1, 1, 0, 0],\n",
      "       [0, 1, 0, 1, 0, 1, 1, 1, 0, 0],\n",
      "       [1, 1, 0, 0, 0, 0, 0, 0, 1, 0],\n",
      "       [1, 0, 0, 1, 0, 0, 0, 0, 1, 0],\n",
      "       [0, 1, 1, 1, 0, 0, 0, 0, 1, 0],\n",
      "       [1, 0, 0, 0, 1, 0, 0, 0, 1, 0],\n",
      "       [0, 1, 0, 1, 0, 1, 0, 0, 1, 0],\n",
      "       [1, 1, 0, 0, 1, 1, 0, 0, 1, 0],\n",
      "       [0, 0, 0, 1, 0, 0, 1, 0, 1, 0],\n",
      "       [0, 1, 1, 1, 0, 0, 1, 0, 1, 0],\n",
      "       [0, 1, 0, 1, 1, 0, 1, 0, 1, 0],\n",
      "       [1, 0, 1, 1, 0, 1, 1, 0, 1, 0],\n",
      "       [1, 0, 0, 0, 1, 1, 1, 0, 1, 0],\n",
      "       [0, 1, 0, 0, 1, 1, 1, 0, 1, 0],\n",
      "       [0, 1, 1, 0, 1, 1, 1, 0, 1, 0],\n",
      "       [0, 1, 0, 1, 1, 1, 1, 0, 1, 0],\n",
      "       [0, 1, 1, 0, 0, 0, 0, 1, 1, 0],\n",
      "       [0, 0, 1, 1, 0, 0, 0, 1, 1, 0],\n",
      "       [0, 1, 0, 1, 1, 0, 0, 1, 1, 0],\n",
      "       [1, 1, 1, 1, 1, 0, 0, 1, 1, 0],\n",
      "       [0, 0, 0, 1, 0, 1, 0, 1, 1, 0],\n",
      "       [1, 1, 0, 1, 0, 0, 1, 1, 1, 0],\n",
      "       [0, 1, 1, 0, 1, 0, 1, 1, 1, 0],\n",
      "       [1, 1, 0, 1, 0, 1, 1, 1, 1, 0],\n",
      "       [0, 1, 0, 0, 1, 1, 1, 1, 1, 0],\n",
      "       [0, 0, 1, 0, 1, 1, 1, 1, 1, 0],\n",
      "       [0, 0, 0, 1, 1, 1, 1, 1, 1, 0],\n",
      "       [0, 0, 0, 1, 1, 1, 1, 1, 1, 0],\n",
      "       [0, 1, 0, 1, 1, 1, 1, 1, 1, 0],\n",
      "       [0, 0, 0, 0, 0, 0, 0, 0, 0, 1],\n",
      "       [1, 1, 0, 0, 1, 0, 0, 0, 0, 1],\n",
      "       [1, 1, 1, 1, 1, 0, 0, 0, 0, 1],\n",
      "       [1, 1, 1, 0, 0, 1, 0, 0, 0, 1],\n",
      "       [1, 1, 1, 0, 0, 1, 0, 0, 0, 1],\n",
      "       [1, 1, 1, 0, 0, 1, 0, 0, 0, 1],\n",
      "       [1, 0, 1, 1, 0, 1, 0, 0, 0, 1],\n",
      "       [0, 1, 1, 1, 0, 1, 0, 0, 0, 1],\n",
      "       [1, 1, 1, 1, 0, 1, 0, 0, 0, 1],\n",
      "       [0, 1, 0, 0, 1, 1, 0, 0, 0, 1],\n",
      "       [1, 0, 1, 0, 1, 1, 0, 0, 0, 1],\n",
      "       [0, 1, 0, 1, 0, 0, 1, 0, 0, 1],\n",
      "       [0, 0, 0, 1, 1, 0, 1, 0, 0, 1],\n",
      "       [0, 0, 0, 0, 0, 1, 1, 0, 0, 1],\n",
      "       [0, 0, 1, 0, 0, 1, 1, 0, 0, 1],\n",
      "       [0, 1, 1, 0, 0, 0, 0, 1, 0, 1],\n",
      "       [1, 1, 0, 1, 0, 0, 0, 1, 0, 1],\n",
      "       [0, 1, 1, 1, 1, 0, 0, 1, 0, 1],\n",
      "       [0, 1, 1, 1, 1, 0, 0, 1, 0, 1],\n",
      "       [0, 1, 1, 1, 0, 1, 0, 1, 0, 1],\n",
      "       [0, 1, 0, 0, 1, 1, 0, 1, 0, 1],\n",
      "       [1, 0, 1, 0, 1, 1, 0, 1, 0, 1],\n",
      "       [1, 1, 0, 0, 0, 0, 1, 1, 0, 1],\n",
      "       [0, 0, 0, 1, 0, 1, 1, 1, 0, 1],\n",
      "       [0, 0, 0, 1, 0, 1, 1, 1, 0, 1],\n",
      "       [0, 1, 1, 1, 1, 1, 1, 1, 0, 1],\n",
      "       [0, 0, 1, 0, 0, 0, 0, 0, 1, 1],\n",
      "       [0, 0, 0, 0, 1, 0, 0, 0, 1, 1],\n",
      "       [0, 1, 0, 1, 1, 0, 0, 0, 1, 1],\n",
      "       [1, 1, 0, 1, 1, 0, 0, 0, 1, 1],\n",
      "       [1, 1, 0, 1, 0, 0, 1, 0, 1, 1],\n",
      "       [0, 1, 1, 1, 0, 0, 1, 0, 1, 1],\n",
      "       [0, 0, 1, 1, 0, 1, 1, 0, 1, 1],\n",
      "       [0, 1, 0, 1, 1, 1, 1, 0, 1, 1],\n",
      "       [1, 0, 1, 1, 1, 1, 1, 0, 1, 1],\n",
      "       [0, 1, 1, 1, 1, 1, 1, 0, 1, 1],\n",
      "       [0, 1, 1, 1, 1, 1, 1, 0, 1, 1],\n",
      "       [1, 0, 1, 0, 1, 0, 0, 1, 1, 1],\n",
      "       [0, 1, 1, 0, 1, 0, 0, 1, 1, 1],\n",
      "       [1, 1, 0, 0, 0, 1, 0, 1, 1, 1],\n",
      "       [1, 1, 0, 1, 0, 1, 0, 1, 1, 1],\n",
      "       [1, 1, 1, 1, 1, 1, 0, 1, 1, 1],\n",
      "       [1, 0, 0, 1, 0, 0, 1, 1, 1, 1],\n",
      "       [0, 1, 1, 1, 0, 0, 1, 1, 1, 1],\n",
      "       [1, 1, 1, 1, 0, 0, 1, 1, 1, 1],\n",
      "       [0, 1, 1, 1, 1, 0, 1, 1, 1, 1],\n",
      "       [0, 0, 1, 0, 0, 1, 1, 1, 1, 1],\n",
      "       [0, 0, 0, 0, 1, 1, 1, 1, 1, 1],\n",
      "       [1, 1, 0, 0, 1, 1, 1, 1, 1, 1]]), 'params': [array([6.07602768, 1.71918081]), array([6.18654155, 1.71918081])], 'opt_params': array([6.18654155, 1.71918081]), 'min_energy_expect': -1.30655, 'job_cost': Decimal('13.9275000000'), 'time': 1716923017.7650323, 'msg': 'Found optimal solution'}\n"
     ]
    }
   ],
   "source": [
    "# set options for classical optimization\n",
    "options = {'disp': True, 'maxfev': max_func_eval}\n",
    "# set tracker to keep track of results\n",
    "tracker = {\n",
    "    'count': 0,                           # Elapsed optimization steps\n",
    "    'optimal_energy': energy_init,        # Global optimal energy\n",
    "    'opt_energies': [],                   # Optimal energy at each step\n",
    "    'global_energies': [],                # Global optimal energy at each step\n",
    "    'optimal_bitstring': bitstring_init,  # Global optimal bitstring\n",
    "    'opt_ising_bitstrings': [],           # Optimal bitstring at each step\n",
    "    'costs': [],                          # Cost (average energy) at each step\n",
    "    'res': None,                          # Quantum result object\n",
    "    'params': [],                         # Track parameters\n",
    "    'opt_params': None,                   # Track optimal parameters\n",
    "    'min_energy_expect': None,            # Global minumum energy expectation value reached\n",
    "    'job_cost': None,                     # Cost in USD of AWS Braket services\n",
    "    'time': None,                         # Time of the optimization\n",
    "    'msg': None                           # message about the result: \"Found optimal solution\", \"Maximum number of function evaluations reached\", f\"{Error_message}\"\n",
    "}\n",
    "\n",
    "# reprodusability and initial parameters\n",
    "if real_num_activities == 3 and T == 4:\n",
    "    np.random.seed(4)\n",
    "if real_num_activities == 3 and T == 5:\n",
    "    np.random.seed(8)\n",
    "\n",
    "# run QAOA optimization\n",
    "\n",
    "\n",
    "gamma_initial = np.random.uniform(0, 2 * np.pi, DEPTH).tolist()\n",
    "beta_initial = np.random.uniform(0, np.pi, DEPTH).tolist()\n",
    "# start optimization\n",
    "start_time = time.time()\n",
    "tracker.update({\"time\": start_time})\n",
    "try:\n",
    "    result_energy, result_angle, tracker = train(\n",
    "        device = device, options=options, p=DEPTH, h_ising=h, J_ising = J, n_qubits=n_qubits, n_shots=SHOTS,\n",
    "        opt_method=OPT_METHOD, tracker=tracker, gamma_initial = gamma_initial,\n",
    "            beta_initial = beta_initial, verbose=True)\n",
    "    tracker.update({\"msg\": \"Maximum number of function evaluations exceeded\"})\n",
    "except Exception as e:\n",
    "    tracker.update({\"msg\": str(e)})\n",
    "finally:\n",
    "    save_tracker_to_file(tracker, 'results')\n",
    "    end = time.time()\n",
    "    tracker.update({\"time\": end - tracker[\"time\"]})\n",
    "    print(\"Results:\")\n",
    "    print(tracker)"
   ]
  },
  {
   "cell_type": "markdown",
   "metadata": {
    "id": "Y1HJw10yxZHU",
    "pycharm": {
     "name": "#%% md\n"
    }
   },
   "source": [
    "# Visualization"
   ]
  },
  {
   "cell_type": "code",
   "execution_count": 67,
   "metadata": {
    "id": "Iyl7GZ4WxcB2",
    "pycharm": {
     "name": "#%%\n"
    }
   },
   "outputs": [],
   "source": [
    "def visualize_solution(x, offset_activity_num=0):\n",
    "    fig, ax = pl.subplots()\n",
    "    lines = []\n",
    "    for i in range(0, x.shape[0]):\n",
    "        if x[i] == 1:\n",
    "            activity, time = from_index_to_activity_time(i)\n",
    "            print(i, activity, time)\n",
    "            if activity_processing_time[activity] > 0:\n",
    "                lines.append([(time, activity), (time + activity_processing_time[activity], activity)])\n",
    "                ax.text(time + activity_processing_time[activity] / 2, activity + 0.1, f'{activity + offset_activity_num}')\n",
    "\n",
    "    lc = mc.LineCollection(lines, linewidths=2)\n",
    "    ax.add_collection(lc)\n",
    "    ax.set_xlabel('час', fontsize=18)\n",
    "    ax.set_ylabel('дія', fontsize=18)\n",
    "    ax.autoscale()\n",
    "    ax.margins(0.1)"
   ]
  },
  {
   "cell_type": "code",
   "execution_count": 73,
   "metadata": {
    "colab": {
     "base_uri": "https://localhost:8080/",
     "height": 531
    },
    "id": "HQanWkssuygu",
    "outputId": "8c1ca651-499d-4e8f-d33f-17f8d2c76a29",
    "tags": [],
    "pycharm": {
     "name": "#%%\n"
    }
   },
   "outputs": [
    {
     "name": "stdout",
     "output_type": "stream",
     "text": [
      "0 0 0\n",
      "4 1 1\n",
      "7 2 2\n"
     ]
    },
    {
     "data": {
      "image/png": "[encoded data removed]",
      "text/plain": [
       "<Figure size 640x480 with 1 Axes>"
      ]
     },
     "metadata": {},
     "output_type": "display_data"
    }
   ],
   "source": [
    "visualize_solution(tracker['optimal_bitstring'])"
   ]
  },
  {
   "cell_type": "code",
   "execution_count": 74,
   "metadata": {
    "tags": [],
    "pycharm": {
     "name": "#%%\n"
    }
   },
   "outputs": [
    {
     "data": {
      "image/png": "[encoded data removed]",
      "text/plain": [
       "<Figure size 640x480 with 1 Axes>"
      ]
     },
     "metadata": {},
     "output_type": "display_data"
    }
   ],
   "source": [
    "plt.plot(tracker[\"global_energies\"])\n",
    "plt.ylabel('оптимальна енергія')\n",
    "plt.xlabel('ітерація')\n",
    "plt.show()"
   ]
  },
  {
   "cell_type": "code",
   "execution_count": 75,
   "metadata": {
    "tags": [],
    "pycharm": {
     "name": "#%%\n"
    }
   },
   "outputs": [
    {
     "data": {
      "image/png": "[encoded data removed]",
      "text/plain": [
       "<Figure size 640x480 with 1 Axes>"
      ]
     },
     "metadata": {},
     "output_type": "display_data"
    }
   ],
   "source": [
    "plt.plot(tracker[\"costs\"])\n",
    "plt.ylabel('середня енергія')\n",
    "plt.xlabel('ітерація')\n",
    "plt.show()"
   ]
  },
  {
   "cell_type": "code",
   "execution_count": null,
   "metadata": {
    "pycharm": {
     "name": "#%%\n"
    }
   },
   "outputs": [],
   "source": []
  }
 ],
 "metadata": {
  "colab": {
   "collapsed_sections": [
    "LXkQpiUzqsUW",
    "0nCPSpI3fAgy",
    "MvfAjf6NsBCW",
    "J0PC165kHHoR",
    "TiTvUW34RSYm",
    "bnN2Nk9CPfTp",
    "4U5bZDhaVQxd",
    "3kaSiTSEHSVl",
    "8DriLJLpHgm7"
   ],
   "provenance": []
  },
  "kernelspec": {
   "display_name": "conda_braket",
   "language": "python",
   "name": "conda_braket"
  },
  "language_info": {
   "codemirror_mode": {
    "name": "ipython",
    "version": 3
   },
   "file_extension": ".py",
   "mimetype": "text/x-python",
   "name": "python",
   "nbconvert_exporter": "python",
   "pygments_lexer": "ipython3",
   "version": "3.10.14"
  }
 },
 "nbformat": 4,
 "nbformat_minor": 4
}