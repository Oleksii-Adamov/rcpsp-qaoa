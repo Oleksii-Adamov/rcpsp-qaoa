{
  "cells": [
    {
      "cell_type": "markdown",
      "metadata": {
        "id": "view-in-github",
        "colab_type": "text"
      },
      "source": [
        "<a href=\"https://colab.research.google.com/github/Oleksii-Adamov/rcpsp-qaoa/blob/main/RCPSP_QAOA.ipynb\" target=\"_parent\"><img src=\"https://colab.research.google.com/assets/colab-badge.svg\" alt=\"Open In Colab\"/></a>"
      ]
    },
    {
      "cell_type": "markdown",
      "metadata": {
        "id": "A6fMLiQ_qpDj"
      },
      "source": [
        "#Imports"
      ]
    },
    {
      "cell_type": "code",
      "source": [
        "!pip install amazon-braket-sdk"
      ],
      "metadata": {
        "id": "-oQOHayIHER1",
        "colab": {
          "base_uri": "https://localhost:8080/"
        },
        "outputId": "58c9662c-9f8d-435e-d584-201888894d85"
      },
      "execution_count": 1,
      "outputs": [
        {
          "output_type": "stream",
          "name": "stdout",
          "text": [
            "Collecting amazon-braket-sdk\n",
            "  Downloading amazon_braket_sdk-1.80.0-py3-none-any.whl (312 kB)\n",
            "\u001b[2K     \u001b[90m━━━━━━━━━━━━━━━━━━━━━━━━━━━━━━━━━━━━━━━━\u001b[0m \u001b[32m312.6/312.6 kB\u001b[0m \u001b[31m4.3 MB/s\u001b[0m eta \u001b[36m0:00:00\u001b[0m\n",
            "\u001b[?25hCollecting amazon-braket-schemas>=1.21.3 (from amazon-braket-sdk)\n",
            "  Downloading amazon_braket_schemas-1.22.0-py3-none-any.whl (125 kB)\n",
            "\u001b[2K     \u001b[90m━━━━━━━━━━━━━━━━━━━━━━━━━━━━━━━━━━━━━━━━\u001b[0m \u001b[32m125.6/125.6 kB\u001b[0m \u001b[31m9.6 MB/s\u001b[0m eta \u001b[36m0:00:00\u001b[0m\n",
            "\u001b[?25hCollecting amazon-braket-default-simulator>=1.21.4 (from amazon-braket-sdk)\n",
            "  Downloading amazon_braket_default_simulator-1.23.2-py3-none-any.whl (222 kB)\n",
            "\u001b[2K     \u001b[90m━━━━━━━━━━━━━━━━━━━━━━━━━━━━━━━━━━━━━━━━\u001b[0m \u001b[32m222.3/222.3 kB\u001b[0m \u001b[31m12.6 MB/s\u001b[0m eta \u001b[36m0:00:00\u001b[0m\n",
            "\u001b[?25hCollecting oqpy~=0.3.5 (from amazon-braket-sdk)\n",
            "  Downloading oqpy-0.3.5-py3-none-any.whl (36 kB)\n",
            "Collecting backoff (from amazon-braket-sdk)\n",
            "  Downloading backoff-2.2.1-py3-none-any.whl (15 kB)\n",
            "Collecting boltons (from amazon-braket-sdk)\n",
            "  Downloading boltons-24.0.0-py3-none-any.whl (191 kB)\n",
            "\u001b[2K     \u001b[90m━━━━━━━━━━━━━━━━━━━━━━━━━━━━━━━━━━━━━━━━\u001b[0m \u001b[32m191.7/191.7 kB\u001b[0m \u001b[31m5.0 MB/s\u001b[0m eta \u001b[36m0:00:00\u001b[0m\n",
            "\u001b[?25hCollecting boto3>=1.28.53 (from amazon-braket-sdk)\n",
            "  Downloading boto3-1.34.114-py3-none-any.whl (139 kB)\n",
            "\u001b[2K     \u001b[90m━━━━━━━━━━━━━━━━━━━━━━━━━━━━━━━━━━━━━━━━\u001b[0m \u001b[32m139.3/139.3 kB\u001b[0m \u001b[31m1.4 MB/s\u001b[0m eta \u001b[36m0:00:00\u001b[0m\n",
            "\u001b[?25hRequirement already satisfied: cloudpickle==2.2.1 in /usr/local/lib/python3.10/dist-packages (from amazon-braket-sdk) (2.2.1)\n",
            "Requirement already satisfied: nest-asyncio in /usr/local/lib/python3.10/dist-packages (from amazon-braket-sdk) (1.6.0)\n",
            "Requirement already satisfied: networkx in /usr/local/lib/python3.10/dist-packages (from amazon-braket-sdk) (3.3)\n",
            "Requirement already satisfied: numpy<2 in /usr/local/lib/python3.10/dist-packages (from amazon-braket-sdk) (1.25.2)\n",
            "Collecting openpulse (from amazon-braket-sdk)\n",
            "  Downloading openpulse-0.5.0-py3-none-any.whl (377 kB)\n",
            "\u001b[2K     \u001b[90m━━━━━━━━━━━━━━━━━━━━━━━━━━━━━━━━━━━━━━━━\u001b[0m \u001b[32m377.0/377.0 kB\u001b[0m \u001b[31m10.4 MB/s\u001b[0m eta \u001b[36m0:00:00\u001b[0m\n",
            "\u001b[?25hCollecting openqasm3 (from amazon-braket-sdk)\n",
            "  Downloading openqasm3-0.5.0-py3-none-any.whl (524 kB)\n",
            "\u001b[2K     \u001b[90m━━━━━━━━━━━━━━━━━━━━━━━━━━━━━━━━━━━━━━━━\u001b[0m \u001b[32m524.0/524.0 kB\u001b[0m \u001b[31m17.8 MB/s\u001b[0m eta \u001b[36m0:00:00\u001b[0m\n",
            "\u001b[?25hRequirement already satisfied: sympy in /usr/local/lib/python3.10/dist-packages (from amazon-braket-sdk) (1.12)\n",
            "Collecting backports.entry-points-selectable (from amazon-braket-sdk)\n",
            "  Downloading backports.entry_points_selectable-1.3.0-py3-none-any.whl (6.2 kB)\n",
            "Requirement already satisfied: opt-einsum in /usr/local/lib/python3.10/dist-packages (from amazon-braket-default-simulator>=1.21.4->amazon-braket-sdk) (3.3.0)\n",
            "Requirement already satisfied: pydantic>2 in /usr/local/lib/python3.10/dist-packages (from amazon-braket-default-simulator>=1.21.4->amazon-braket-sdk) (2.7.1)\n",
            "Requirement already satisfied: scipy in /usr/local/lib/python3.10/dist-packages (from amazon-braket-default-simulator>=1.21.4->amazon-braket-sdk) (1.11.4)\n",
            "Collecting antlr4-python3-runtime==4.9.2 (from amazon-braket-default-simulator>=1.21.4->amazon-braket-sdk)\n",
            "  Downloading antlr4-python3-runtime-4.9.2.tar.gz (117 kB)\n",
            "\u001b[2K     \u001b[90m━━━━━━━━━━━━━━━━━━━━━━━━━━━━━━━━━━━━━━━━\u001b[0m \u001b[32m117.2/117.2 kB\u001b[0m \u001b[31m7.9 MB/s\u001b[0m eta \u001b[36m0:00:00\u001b[0m\n",
            "\u001b[?25h  Preparing metadata (setup.py) ... \u001b[?25l\u001b[?25hdone\n",
            "Collecting botocore<1.35.0,>=1.34.114 (from boto3>=1.28.53->amazon-braket-sdk)\n",
            "  Downloading botocore-1.34.114-py3-none-any.whl (12.3 MB)\n",
            "\u001b[2K     \u001b[90m━━━━━━━━━━━━━━━━━━━━━━━━━━━━━━━━━━━━━━━━\u001b[0m \u001b[32m12.3/12.3 MB\u001b[0m \u001b[31m23.1 MB/s\u001b[0m eta \u001b[36m0:00:00\u001b[0m\n",
            "\u001b[?25hCollecting jmespath<2.0.0,>=0.7.1 (from boto3>=1.28.53->amazon-braket-sdk)\n",
            "  Downloading jmespath-1.0.1-py3-none-any.whl (20 kB)\n",
            "Collecting s3transfer<0.11.0,>=0.10.0 (from boto3>=1.28.53->amazon-braket-sdk)\n",
            "  Downloading s3transfer-0.10.1-py3-none-any.whl (82 kB)\n",
            "\u001b[2K     \u001b[90m━━━━━━━━━━━━━━━━━━━━━━━━━━━━━━━━━━━━━━━━\u001b[0m \u001b[32m82.2/82.2 kB\u001b[0m \u001b[31m5.1 MB/s\u001b[0m eta \u001b[36m0:00:00\u001b[0m\n",
            "\u001b[?25hCollecting mypy-extensions>=0.2.0 (from oqpy~=0.3.5->amazon-braket-sdk)\n",
            "  Downloading mypy_extensions-1.0.0-py3-none-any.whl (4.7 kB)\n",
            "Requirement already satisfied: mpmath>=0.19 in /usr/local/lib/python3.10/dist-packages (from sympy->amazon-braket-sdk) (1.3.0)\n",
            "Requirement already satisfied: python-dateutil<3.0.0,>=2.1 in /usr/local/lib/python3.10/dist-packages (from botocore<1.35.0,>=1.34.114->boto3>=1.28.53->amazon-braket-sdk) (2.8.2)\n",
            "Requirement already satisfied: urllib3!=2.2.0,<3,>=1.25.4 in /usr/local/lib/python3.10/dist-packages (from botocore<1.35.0,>=1.34.114->boto3>=1.28.53->amazon-braket-sdk) (2.0.7)\n",
            "Requirement already satisfied: annotated-types>=0.4.0 in /usr/local/lib/python3.10/dist-packages (from pydantic>2->amazon-braket-default-simulator>=1.21.4->amazon-braket-sdk) (0.7.0)\n",
            "Requirement already satisfied: pydantic-core==2.18.2 in /usr/local/lib/python3.10/dist-packages (from pydantic>2->amazon-braket-default-simulator>=1.21.4->amazon-braket-sdk) (2.18.2)\n",
            "Requirement already satisfied: typing-extensions>=4.6.1 in /usr/local/lib/python3.10/dist-packages (from pydantic>2->amazon-braket-default-simulator>=1.21.4->amazon-braket-sdk) (4.11.0)\n",
            "Requirement already satisfied: six>=1.5 in /usr/local/lib/python3.10/dist-packages (from python-dateutil<3.0.0,>=2.1->botocore<1.35.0,>=1.34.114->boto3>=1.28.53->amazon-braket-sdk) (1.16.0)\n",
            "Building wheels for collected packages: antlr4-python3-runtime\n",
            "  Building wheel for antlr4-python3-runtime (setup.py) ... \u001b[?25l\u001b[?25hdone\n",
            "  Created wheel for antlr4-python3-runtime: filename=antlr4_python3_runtime-4.9.2-py3-none-any.whl size=144548 sha256=30be02e2147ccfbcbade0a995eaa07d56b1cf789d5d451d15ac3751e99be2782\n",
            "  Stored in directory: /root/.cache/pip/wheels/af/c8/1f/dd6d90c5974896e85709e017986a6f72fcf32343bea042bc03\n",
            "Successfully built antlr4-python3-runtime\n",
            "Installing collected packages: openqasm3, antlr4-python3-runtime, mypy-extensions, jmespath, boltons, backports.entry-points-selectable, backoff, openpulse, botocore, s3transfer, oqpy, amazon-braket-schemas, boto3, amazon-braket-default-simulator, amazon-braket-sdk\n",
            "Successfully installed amazon-braket-default-simulator-1.23.2 amazon-braket-schemas-1.22.0 amazon-braket-sdk-1.80.0 antlr4-python3-runtime-4.9.2 backoff-2.2.1 backports.entry-points-selectable-1.3.0 boltons-24.0.0 boto3-1.34.114 botocore-1.34.114 jmespath-1.0.1 mypy-extensions-1.0.0 openpulse-0.5.0 openqasm3-0.5.0 oqpy-0.3.5 s3transfer-0.10.1\n"
          ]
        }
      ]
    },
    {
      "cell_type": "code",
      "execution_count": 2,
      "metadata": {
        "id": "tIjN0cCpqqtD"
      },
      "outputs": [],
      "source": [
        "from matplotlib import pyplot as plt\n",
        "from functools import partial\n",
        "import networkx as nx\n",
        "import itertools\n",
        "import scipy\n",
        "import numpy as np\n",
        "import json, os, requests, time\n",
        "from getpass import getpass\n",
        "from google.colab import userdata\n",
        "from braket.aws import AwsDevice\n",
        "from braket.circuits import Circuit\n",
        "from braket.circuits.circuit import subroutine\n",
        "from braket.devices import LocalSimulator\n",
        "from braket.parametric import FreeParameter\n",
        "from braket.ir.jaqcd import Program, H, CNot, Rx, Rz, ZZ\n",
        "from scipy.optimize import minimize\n",
        "import pickle\n",
        "from datetime import datetime\n",
        "import pylab as pl\n",
        "from matplotlib import collections  as mc"
      ]
    },
    {
      "cell_type": "markdown",
      "metadata": {
        "id": "LXkQpiUzqsUW"
      },
      "source": [
        "#Problem digitalization (e.g input data for RCPSP)"
      ]
    },
    {
      "cell_type": "code",
      "execution_count": 3,
      "metadata": {
        "id": "JEANXSf2W-e-"
      },
      "outputs": [],
      "source": [
        "# activies numeration should start from 1\n",
        "\n",
        "# real_num_activities = 3\n",
        "# T = 10 # will become 4\n",
        "# precedence_graph_edges = np.array([[2, 3], [1, 3]])\n",
        "# activity_processing_time = np.array([1, 1, 2])\n",
        "# resourse_capacity = np.array([3, 3])\n",
        "# resourse_consumption = np.array([[1, 2], [0, 3], [1, 1]])\n",
        "# number_of_recourses = resourse_capacity.shape[0]\n",
        "\n",
        "# real_num_activities = 3\n",
        "# T = 10 # will become 4\n",
        "# precedence_graph_edges = np.array([[2, 3], [1, 3]])\n",
        "# activity_processing_time = np.array([1, 1, 2])\n",
        "# resourse_capacity = np.array([3, 3, 4])\n",
        "# resourse_consumption = np.array([[1, 2, 1], [0, 3, 1], [1, 1, 3]])\n",
        "# number_of_recourses = resourse_capacity.shape[0]\n",
        "\n",
        "# real_num_activities = 3\n",
        "# T = 10 # will become 5\n",
        "# precedence_graph_edges = np.array([[2, 3], [1, 3]])\n",
        "# activity_processing_time = np.array([1, 2, 2])\n",
        "# resourse_capacity = np.array([3, 3, 4])\n",
        "# resourse_consumption = np.array([[1, 2, 1], [0, 1, 1], [1, 1, 3]])\n",
        "# number_of_recourses = resourse_capacity.shape[0]\n",
        "\n",
        "real_num_activities = 4\n",
        "T = 4\n",
        "precedence_graph_edges = np.array([[1, 2], [3, 4], [2, 4]])\n",
        "activity_processing_time = np.array([1, 1, 2, 1])\n",
        "resourse_capacity = np.array([4, 4])\n",
        "resourse_consumption = np.array([[4, 0], [2, 1], [1, 2], [3, 3]])\n",
        "number_of_recourses = resourse_capacity.shape[0]\n",
        "\n",
        "# real_num_activities = 4\n",
        "# T = 4\n",
        "# precedence_graph_edges = np.array([[1, 2], [3, 4], [2, 4]])\n",
        "# activity_processing_time = np.array([1, 1, 2, 1])\n",
        "# resourse_capacity = np.array([4, 4, 4])\n",
        "# resourse_consumption = np.array([[4, 0, 2], [2, 1, 2], [1, 2, 0], [3, 3, 1]])\n",
        "# number_of_recourses = resourse_capacity.shape[0]\n",
        "\n",
        "# real_num_activities = 4\n",
        "# T = 10 # will become 5\n",
        "# precedence_graph_edges = np.array([[1, 2], [3, 4], [2, 4]])\n",
        "# activity_processing_time = np.array([1, 1, 2, 1])\n",
        "# resourse_capacity = np.array([4, 4])\n",
        "# resourse_consumption = np.array([[4, 0], [2, 1], [1, 2], [3, 3]])\n",
        "# number_of_recourses = resourse_capacity.shape[0]\n",
        "\n",
        "# real_num_activities = 5\n",
        "# T = 10 # will become 5\n",
        "# precedence_graph_edges = np.array([[1, 2], [3, 4], [2, 5], [4, 5]])\n",
        "# activity_processing_time = np.array([1, 1, 1, 1, 1])\n",
        "# resourse_capacity = np.array([4, 4])\n",
        "# resourse_consumption = np.array([[2, 1], [2, 3], [3, 0], [2, 2], [4, 2]])\n",
        "# number_of_recourses = resourse_capacity.shape[0]"
      ]
    },
    {
      "cell_type": "markdown",
      "metadata": {
        "id": "R2nnam_rinwo"
      },
      "source": [
        "Add dummy activities"
      ]
    },
    {
      "cell_type": "code",
      "execution_count": 4,
      "metadata": {
        "id": "8ZSUKfsNp3WR"
      },
      "outputs": [],
      "source": [
        "def add_smart_dummy_activities_no_start(real_num_activities, precedence_graph_edges, activity_processing_time, resourse_consumption):\n",
        "    num_activities = real_num_activities\n",
        "    starting_activity = None\n",
        "    end_activity = None\n",
        "\n",
        "    has_outcoming = [False] * (real_num_activities+1)\n",
        "    has_incoming = [False] * (real_num_activities+1)\n",
        "    for edge in precedence_graph_edges:\n",
        "        has_outcoming[int(edge[0])] = True\n",
        "        has_incoming[int(edge[1])] = True\n",
        "    # mark 0 index True, so it won't be counted\n",
        "    has_incoming[0] = True\n",
        "    has_outcoming[0] = True\n",
        "    to_insert_start_activity = has_incoming.count(False) > 1\n",
        "    to_insert_end_activity = has_outcoming.count(False) > 1\n",
        "    for i in range(1, real_num_activities+1):\n",
        "        if to_insert_end_activity and not has_outcoming[i]:\n",
        "            precedence_graph_edges = np.concatenate([precedence_graph_edges, [[i, real_num_activities+1]]])\n",
        "        if not to_insert_start_activity and not has_incoming[i]:\n",
        "            starting_activity = i\n",
        "        if not to_insert_end_activity and not has_outcoming[i]:\n",
        "            end_activity = i\n",
        "\n",
        "    if to_insert_end_activity:\n",
        "        print(\"inserted end activity\")\n",
        "        num_activities += 1\n",
        "        activity_processing_time = np.concatenate([activity_processing_time, [0]])\n",
        "        resourse_consumption = np.concatenate([resourse_consumption, [[0] * number_of_recourses]])\n",
        "        end_activity = real_num_activities+1\n",
        "\n",
        "    # shift numeration to be from zero\n",
        "    if not starting_activity is None:\n",
        "        starting_activity -= 1\n",
        "    end_activity -= 1\n",
        "    for edge in precedence_graph_edges:\n",
        "        edge[0] -= 1\n",
        "        edge[1] -= 1\n",
        "\n",
        "    return num_activities, precedence_graph_edges, activity_processing_time, resourse_consumption, starting_activity, end_activity"
      ]
    },
    {
      "cell_type": "code",
      "execution_count": 5,
      "metadata": {
        "id": "MXuPdZtmqekw"
      },
      "outputs": [],
      "source": [
        "num_activities, precedence_graph_edges, activity_processing_time, resourse_consumption, starting_activity, end_activity = add_smart_dummy_activities_no_start(real_num_activities, precedence_graph_edges, activity_processing_time, resourse_consumption)"
      ]
    },
    {
      "cell_type": "code",
      "execution_count": 6,
      "metadata": {
        "colab": {
          "base_uri": "https://localhost:8080/"
        },
        "id": "gUFbR57SoxmL",
        "outputId": "bd9a87ca-1baf-4439-ecab-6aad2c645701"
      },
      "outputs": [
        {
          "output_type": "execute_result",
          "data": {
            "text/plain": [
              "3"
            ]
          },
          "metadata": {},
          "execution_count": 6
        }
      ],
      "source": [
        "end_activity"
      ]
    },
    {
      "cell_type": "code",
      "execution_count": 7,
      "metadata": {
        "colab": {
          "base_uri": "https://localhost:8080/"
        },
        "id": "t0SG3Jc9qrjD",
        "outputId": "7622632f-fe72-4cb9-e51d-599a6ffc2f46"
      },
      "outputs": [
        {
          "output_type": "execute_result",
          "data": {
            "text/plain": [
              "True"
            ]
          },
          "metadata": {},
          "execution_count": 7
        }
      ],
      "source": [
        "starting_activity is None"
      ]
    },
    {
      "cell_type": "code",
      "execution_count": 8,
      "metadata": {
        "colab": {
          "base_uri": "https://localhost:8080/"
        },
        "id": "TLvCLrDP6c6S",
        "outputId": "b3ee53af-b859-4393-a233-08c70ea44f8d"
      },
      "outputs": [
        {
          "output_type": "stream",
          "name": "stdout",
          "text": [
            "4\n"
          ]
        }
      ],
      "source": [
        "print(num_activities)"
      ]
    },
    {
      "cell_type": "code",
      "execution_count": 9,
      "metadata": {
        "colab": {
          "base_uri": "https://localhost:8080/"
        },
        "id": "DvAgXUGXqeyU",
        "outputId": "8b9e67f7-f40c-42b7-9af0-7b06b9451baf"
      },
      "outputs": [
        {
          "output_type": "stream",
          "name": "stdout",
          "text": [
            "[[0 1]\n",
            " [2 3]\n",
            " [1 3]]\n"
          ]
        }
      ],
      "source": [
        "print(precedence_graph_edges)"
      ]
    },
    {
      "cell_type": "code",
      "execution_count": 10,
      "metadata": {
        "colab": {
          "base_uri": "https://localhost:8080/"
        },
        "id": "xFNxkfMSqgke",
        "outputId": "8b047620-71f7-4c7c-89e7-eb43659ad51e"
      },
      "outputs": [
        {
          "output_type": "stream",
          "name": "stdout",
          "text": [
            "[1 1 2 1]\n"
          ]
        }
      ],
      "source": [
        "print(activity_processing_time)"
      ]
    },
    {
      "cell_type": "code",
      "execution_count": 11,
      "metadata": {
        "colab": {
          "base_uri": "https://localhost:8080/"
        },
        "id": "zCcBVvh7qkrE",
        "outputId": "6e0da6d0-0dfc-4ab5-e50b-98956f2e8bc6"
      },
      "outputs": [
        {
          "output_type": "stream",
          "name": "stdout",
          "text": [
            "[[4 0]\n",
            " [2 1]\n",
            " [1 2]\n",
            " [3 3]]\n"
          ]
        }
      ],
      "source": [
        "print(resourse_consumption)"
      ]
    },
    {
      "cell_type": "markdown",
      "metadata": {
        "id": "0nCPSpI3fAgy"
      },
      "source": [
        "#Calculating time windows"
      ]
    },
    {
      "cell_type": "code",
      "execution_count": 12,
      "metadata": {
        "id": "FZfGQqXY51h_"
      },
      "outputs": [],
      "source": [
        "def longest_paths_in_postive_graph(G, weigth_func):\n",
        "    # find shortest path for -G, O(V+E)\n",
        "    topological_order = list(nx.topological_sort(G)) # Kahn's algorithm (incoming degrees), O(V+E)\n",
        "    # all incoming weights are non-negative, because of reverse sign of weights, zero weight path is max\n",
        "    shortest_path = np.full_like(activity_processing_time, 0)\n",
        "    for node in topological_order:\n",
        "        for neighbor in G[node]:\n",
        "            if not neighbor is None and shortest_path[neighbor] > shortest_path[node] - weigth_func(node, neighbor):\n",
        "                shortest_path[neighbor] = shortest_path[node] - weigth_func(node, neighbor)\n",
        "    return -shortest_path"
      ]
    },
    {
      "cell_type": "code",
      "execution_count": 13,
      "metadata": {
        "id": "vuiwiYEA8div"
      },
      "outputs": [],
      "source": [
        "def calculate_time_windows(precedence_graph_edges, end_activity):\n",
        "    # calculate earliest start\n",
        "    # by finding longest paths from source (start activity) to every node, weights - activity processing time\n",
        "    precedence_graph_edges_with_start_activity = np.copy(precedence_graph_edges)\n",
        "    if starting_activity is None:\n",
        "        precedence_graph_edges_with_start_activity = np.concatenate([[np.array([-1, i]) for i in range(0, num_activities)], precedence_graph_edges_with_start_activity])\n",
        "    G = nx.from_edgelist(precedence_graph_edges_with_start_activity, create_using=nx.DiGraph)\n",
        "    nx.draw(G, with_labels=True)\n",
        "    earliest_start = longest_paths_in_postive_graph(G, lambda u, v: activity_processing_time[u] if u > -1 else 0)\n",
        "    # calculate latest start\n",
        "    latest_start = np.full_like(activity_processing_time, 0)\n",
        "    for activity in range(0, num_activities):\n",
        "        descendants = []\n",
        "        if G.has_node(activity):\n",
        "            descendants = nx.descendants(G, activity)\n",
        "        for activity2 in range(0, num_activities):\n",
        "            if not (activity2 in descendants):\n",
        "                latest_start[activity] += activity_processing_time[activity2]\n",
        "        latest_start[activity] = min(T, latest_start[activity])\n",
        "\n",
        "    return earliest_start, latest_start"
      ]
    },
    {
      "cell_type": "code",
      "execution_count": 14,
      "metadata": {
        "colab": {
          "base_uri": "https://localhost:8080/",
          "height": 54
        },
        "id": "zdz9cYGGfIBq",
        "outputId": "27e86c8e-6aa7-44ea-e0bb-3f01f69c3f82"
      },
      "outputs": [
        {
          "output_type": "display_data",
          "data": {
            "text/plain": [
              "<Figure size 640x480 with 1 Axes>"
            ],
            "image/png": "[encoded data removed]"
          },
          "metadata": {}
        }
      ],
      "source": [
        "G = nx.from_edgelist(precedence_graph_edges, create_using=nx.DiGraph)\n",
        "nx.draw(G, with_labels=True)"
      ]
    },
    {
      "cell_type": "code",
      "execution_count": 15,
      "metadata": {
        "colab": {
          "base_uri": "https://localhost:8080/",
          "height": 89
        },
        "id": "oibpYzeX9xS8",
        "outputId": "332203e5-e5b6-4948-bda0-a63f64e9fcbe"
      },
      "outputs": [
        {
          "output_type": "stream",
          "name": "stdout",
          "text": [
            "[0 1 0 2]\n",
            "[3 4 4 4]\n"
          ]
        },
        {
          "output_type": "display_data",
          "data": {
            "text/plain": [
              "<Figure size 640x480 with 1 Axes>"
            ],
            "image/png": "[encoded data removed]"
          },
          "metadata": {}
        }
      ],
      "source": [
        "earliest_start, latest_start = calculate_time_windows(precedence_graph_edges, end_activity)\n",
        "T = latest_start[end_activity]\n",
        "print(earliest_start)\n",
        "print(latest_start)"
      ]
    },
    {
      "cell_type": "markdown",
      "metadata": {
        "id": "MvfAjf6NsBCW"
      },
      "source": [
        "# QUBO variables, objective and penalties"
      ]
    },
    {
      "cell_type": "markdown",
      "metadata": {
        "id": "YtVEqPd_XfYt"
      },
      "source": [
        "## Variables"
      ]
    },
    {
      "cell_type": "code",
      "execution_count": 16,
      "metadata": {
        "id": "J6Hru6I21HGp"
      },
      "outputs": [],
      "source": [
        "number_of_activities_variables = 0\n",
        "for i in range(0, num_activities):\n",
        "    number_of_activities_variables += latest_start[i] - earliest_start[i] + 1"
      ]
    },
    {
      "cell_type": "code",
      "execution_count": 17,
      "metadata": {
        "id": "PtSSr1vnsC-X"
      },
      "outputs": [],
      "source": [
        "number_of_variables = number_of_activities_variables"
      ]
    },
    {
      "cell_type": "code",
      "execution_count": 18,
      "metadata": {
        "colab": {
          "base_uri": "https://localhost:8080/"
        },
        "id": "DXegTLB6CesT",
        "outputId": "f3311bb7-c6a6-40b6-b053-0f7237bec356"
      },
      "outputs": [
        {
          "output_type": "execute_result",
          "data": {
            "text/plain": [
              "16"
            ]
          },
          "metadata": {},
          "execution_count": 18
        }
      ],
      "source": [
        "number_of_variables"
      ]
    },
    {
      "cell_type": "code",
      "execution_count": 19,
      "metadata": {
        "id": "xwrAjzmeR5nd"
      },
      "outputs": [],
      "source": [
        "activity_time_index_start = np.empty_like(activity_processing_time)\n",
        "cur_index = 0\n",
        "for i in range(0, num_activities):\n",
        "    activity_time_index_start[i] = cur_index\n",
        "    cur_index += latest_start[i] - earliest_start[i] + 1"
      ]
    },
    {
      "cell_type": "code",
      "execution_count": 20,
      "metadata": {
        "id": "ELmb4GTb28eG"
      },
      "outputs": [],
      "source": [
        "def activity_time_to_index(activity_index, time_index):\n",
        "    assert(time_index >= earliest_start[activity_index] and time_index <= latest_start[activity_index])\n",
        "    return activity_time_index_start[activity_index] + time_index - earliest_start[activity_index]"
      ]
    },
    {
      "cell_type": "code",
      "execution_count": 21,
      "metadata": {
        "id": "a9DhNQgzzZTC"
      },
      "outputs": [],
      "source": [
        "def from_index_to_activity_time(index):\n",
        "    for i in range(0, num_activities):\n",
        "        if index >= activity_time_index_start[i] and index <= activity_time_index_start[i] + latest_start[i] - earliest_start[i]:\n",
        "            return i, earliest_start[i] + index - activity_time_index_start[i]"
      ]
    },
    {
      "cell_type": "markdown",
      "metadata": {
        "id": "IPvnGR-jXlIu"
      },
      "source": [
        "## Objective function"
      ]
    },
    {
      "cell_type": "code",
      "execution_count": 22,
      "metadata": {
        "id": "SPKmppVj2Om2"
      },
      "outputs": [],
      "source": [
        "def add_objective_function(Q, last_activity):\n",
        "    for t in range(earliest_start[last_activity], latest_start[last_activity]+1):\n",
        "        i = activity_time_to_index(num_activities - 1, t)\n",
        "        Q[i, i] += t"
      ]
    },
    {
      "cell_type": "markdown",
      "metadata": {
        "id": "zFto3XZYYLEq"
      },
      "source": [
        "## Each activity starts 1 time constraint"
      ]
    },
    {
      "cell_type": "code",
      "execution_count": 23,
      "metadata": {
        "id": "ZSawwGl7YS2Z"
      },
      "outputs": [],
      "source": [
        "def add_activity_one_start_penalty(Q, offset, penalty_coef):\n",
        "    for activity in range(0, num_activities):\n",
        "        for t1 in range(earliest_start[activity], latest_start[activity]+1):\n",
        "            for t2 in range(earliest_start[activity], latest_start[activity]+1):\n",
        "                i = activity_time_to_index(activity, t1)\n",
        "                j = activity_time_to_index(activity, t2)\n",
        "                if i > j:\n",
        "                    i, j = j, i\n",
        "                Q[i, j] += penalty_coef\n",
        "            i = activity_time_to_index(activity, t1)\n",
        "            Q[i, i] -= 2*penalty_coef\n",
        "    offset += num_activities * penalty_coef\n",
        "    return offset"
      ]
    },
    {
      "cell_type": "markdown",
      "metadata": {
        "id": "Hd8r5qibMzvU"
      },
      "source": [
        "## Precedence constraint"
      ]
    },
    {
      "cell_type": "code",
      "execution_count": 24,
      "metadata": {
        "id": "iJ9HUBr_NxBX"
      },
      "outputs": [],
      "source": [
        "def add_precedence_penalty(Q, penalty_coef):\n",
        "    for edge in precedence_graph_edges:\n",
        "        from_activity = edge[0]\n",
        "        to_activity = edge[1]\n",
        "        for t1 in range(earliest_start[from_activity], latest_start[from_activity]+1):\n",
        "            for t2 in range(earliest_start[to_activity], min(t1 + activity_processing_time[from_activity], latest_start[to_activity]+1)):\n",
        "                i = activity_time_to_index(from_activity, t1)\n",
        "                j = activity_time_to_index(to_activity, t2)\n",
        "                if i > j:\n",
        "                    i, j = j, i\n",
        "                Q[i, j] += penalty_coef"
      ]
    },
    {
      "cell_type": "markdown",
      "metadata": {
        "id": "cU9Q8C3xvYiw"
      },
      "source": [
        "## Unbalanced Resource constraints"
      ]
    },
    {
      "cell_type": "code",
      "execution_count": 25,
      "metadata": {
        "id": "lWnHiTinveHz"
      },
      "outputs": [],
      "source": [
        "def add_unbalanced_resourse_penalty(Q, offset, penalty_coef1, penalty_coef2):\n",
        "    for t in range(0, latest_start[end_activity]+1):\n",
        "        for k in range(0, number_of_recourses):\n",
        "            for i1 in range(0, num_activities):\n",
        "                for i2 in range(0, num_activities):\n",
        "                    for r1 in range(max(t - activity_processing_time[i1] + 1, earliest_start[i1]), min(t, latest_start[i1])+1):\n",
        "                        for r2 in range(max(t - activity_processing_time[i2] + 1, earliest_start[i2]), min(t, latest_start[i2])+1):\n",
        "                            i = activity_time_to_index(i1, r1)\n",
        "                            j = activity_time_to_index(i2, r2)\n",
        "                            if i > j:\n",
        "                                i, j = j, i\n",
        "                            Q[i, j] += penalty_coef2 * resourse_consumption[i1, k] * resourse_consumption[i2, k]\n",
        "            for i1 in range(0, num_activities):\n",
        "                for r in range(max(t - activity_processing_time[i1] + 1, earliest_start[i1]), min(t, latest_start[i1])+1):\n",
        "                    i = activity_time_to_index(i1, r)\n",
        "                    Q[i, i] += (penalty_coef1 - 2 * resourse_capacity[k]  * penalty_coef2) * resourse_consumption[i1, k]\n",
        "            offset += penalty_coef2 * resourse_capacity[k] ** 2 - penalty_coef1 * resourse_capacity[k]\n",
        "    return offset"
      ]
    },
    {
      "cell_type": "markdown",
      "metadata": {
        "id": "J0PC165kHHoR"
      },
      "source": [
        "# QUBO formation"
      ]
    },
    {
      "cell_type": "code",
      "execution_count": 26,
      "metadata": {
        "id": "C4FCfAtmNkJ0"
      },
      "outputs": [],
      "source": [
        "def form_RCPSP_QUBO(resourse_penalty1, resourse_penalty2):\n",
        "    Q = np.zeros((number_of_variables, number_of_variables))\n",
        "    qubo_offset = 0.0\n",
        "    add_objective_function(Q, end_activity)\n",
        "    qubo_offset = add_unbalanced_resourse_penalty(Q, qubo_offset, resourse_penalty1, resourse_penalty2)\n",
        "    one_start_penalty = abs(max(Q.min(), Q.max(), key=abs)) * 2\n",
        "    precedence_penalty = one_start_penalty\n",
        "    qubo_offset = add_activity_one_start_penalty(Q, qubo_offset, one_start_penalty)\n",
        "    add_precedence_penalty(Q, precedence_penalty)\n",
        "    return Q, qubo_offset, one_start_penalty, precedence_penalty"
      ]
    },
    {
      "cell_type": "code",
      "execution_count": 27,
      "metadata": {
        "id": "onrn4Tbxm-sN"
      },
      "outputs": [],
      "source": [
        "resourse_penalty1, resourse_penalty2 = 0.11, 0.0833 # for more than 4 activities\n",
        "if real_num_activities < 5:\n",
        "    resourse_penalty1, resourse_penalty2 = 0.53, 0.125"
      ]
    },
    {
      "cell_type": "code",
      "execution_count": 28,
      "metadata": {
        "id": "m7UVK_MEONJP"
      },
      "outputs": [],
      "source": [
        "Q, qubo_offset, one_start_penalty, precedence_penalty = form_RCPSP_QUBO(resourse_penalty1, resourse_penalty2)"
      ]
    },
    {
      "cell_type": "markdown",
      "metadata": {
        "id": "TiTvUW34RSYm"
      },
      "source": [
        "# To Ising"
      ]
    },
    {
      "cell_type": "code",
      "execution_count": 29,
      "metadata": {
        "id": "PH_mUQZrcCSN"
      },
      "outputs": [],
      "source": [
        "def from_Q_to_Ising(Q, offset):\n",
        "    ising_offset = np.copy(offset)\n",
        "    n_var = len(Q)  # Get the number of variables in the QUBO matrix\n",
        "\n",
        "    h = np.zeros((n_var))\n",
        "    J = np.zeros((n_var, n_var))\n",
        "\n",
        "    # Loop over each variable in the QUBO matrix\n",
        "    for i in range(n_var):\n",
        "        # Update the magnetic field for qubit i based on its diagonal element in Q\n",
        "        h[i] -= Q[i, i] / 2\n",
        "        # Update the offset based on the diagonal element in Q\n",
        "        ising_offset += Q[i, i] / 2\n",
        "        # Loop over other variables to calculate pairwise interactions\n",
        "        for j in range(i + 1, n_var):\n",
        "            # Update the pairwise interaction strength (J) between variables i and j\n",
        "            J[i, j] += Q[i, j] / 4\n",
        "            # Update the magnetic fields for variables i and j based on their interactions in Q\n",
        "            h[i] -= Q[i, j] / 4\n",
        "            h[j] -= Q[i, j] / 4\n",
        "            # Update the offset based on the interaction strength between variables i and j\n",
        "            ising_offset += Q[i, j] / 4\n",
        "    # Return the magnetic fields, pairwise interactions, and the updated offset\n",
        "    return h, J, ising_offset"
      ]
    },
    {
      "cell_type": "code",
      "execution_count": 30,
      "metadata": {
        "id": "J_rT4012EfBA"
      },
      "outputs": [],
      "source": [
        "h, J, ising_offset = from_Q_to_Ising(Q, qubo_offset)"
      ]
    },
    {
      "cell_type": "markdown",
      "metadata": {
        "id": "sWH4cUFEE9dE"
      },
      "source": [
        "# IONQ simulator"
      ]
    },
    {
      "cell_type": "code",
      "execution_count": 31,
      "metadata": {
        "id": "Q6v0rLoeFBW6"
      },
      "outputs": [],
      "source": [
        "# If your API key is stored as \"IONQ_API_KEY\" in your local environment, this\n",
        "# should find it. Otherwise you'll be prompted to enter your API key manually.\n",
        "\n",
        "api_key = os.getenv('IONQ_API_KEY') or userdata.get('IONQ_API_KEY') or getpass('Enter your IonQ API key: ')\n",
        "\n",
        "ionq_api_headers = {\n",
        "    \"Authorization\": f\"apiKey {api_key}\",\n",
        "    \"Content-Type\": \"application/json\",\n",
        "}"
      ]
    },
    {
      "cell_type": "code",
      "execution_count": 32,
      "metadata": {
        "id": "JNJF8kVlFNm2"
      },
      "outputs": [],
      "source": [
        "def submit_job(headers, data):\n",
        "    url = \"https://api.ionq.co/v0.3/jobs\"\n",
        "    response = requests.post(url, headers=headers, data=data)\n",
        "    response_json = response.json()\n",
        "    assert response.status_code == 200, f\"Error: {response_json.get('message', 'Unknown error')}\"\n",
        "    return response_json[\"id\"]\n",
        "\n",
        "def query_job(job_id, headers):\n",
        "    url = f\"https://api.ionq.co/v0.3/jobs/{job_id}\"\n",
        "    response = requests.get(url, headers=headers)\n",
        "    response_json = response.json()\n",
        "    assert response.status_code == 200, f\"Error: {response_json.get('message', 'Unknown error')}\"\n",
        "    return response_json[\"status\"]\n",
        "\n",
        "def get_job_results(job_id, headers):\n",
        "    url = f\"https://api.ionq.co/v0.3/jobs/{job_id}/results\"\n",
        "    response = requests.get(url, headers=headers, params={\"sharpen\": False})\n",
        "    response_json = response.json()\n",
        "    assert response.status_code == 200, f\"Error: {response_json.get('message', 'Unknown error')}\"\n",
        "    return response_json"
      ]
    },
    {
      "cell_type": "code",
      "execution_count": 33,
      "metadata": {
        "id": "C1LoiFX_GkQS"
      },
      "outputs": [],
      "source": [
        "def ionq_api_request_data(instructions, n_qubits, shots, name):\n",
        "    program = Program(instructions=instructions)\n",
        "    json_program = json.loads(program.json())\n",
        "    instructions_json_list = json_program[\"instructions\"]\n",
        "    for instruction in instructions_json_list:\n",
        "        gate = instruction[\"type\"]\n",
        "        del instruction[\"type\"]\n",
        "        instruction[\"gate\"] = gate\n",
        "        if \"angle\" in instruction:\n",
        "            instruction[\"rotation\"] = instruction[\"angle\"]\n",
        "            del instruction[\"angle\"]\n",
        "    request_data = {\n",
        "        \"name\": name,\n",
        "        \"shots\": shots,\n",
        "        \"target\": \"simulator\",\n",
        "        \"noise\": {\n",
        "            \"model\": \"aria-1\"\n",
        "        },\n",
        "        \"error_mitigation\": {\"debias\": True},\n",
        "        \"input\": {\n",
        "            \"format\": \"ionq.circuit.v0\",\n",
        "            \"gateset\": \"qis\",\n",
        "            \"qubits\": n_qubits,\n",
        "            \"circuit\": json_program[\"instructions\"]\n",
        "        }\n",
        "    }\n",
        "    return request_data"
      ]
    },
    {
      "cell_type": "code",
      "execution_count": 34,
      "metadata": {
        "id": "9tG8rQj8IjJw"
      },
      "outputs": [],
      "source": [
        "def ionq_api_submit_and_get_result(request_data):\n",
        "    job_id = submit_job(ionq_api_headers, json.dumps(request_data))\n",
        "\n",
        "    # And wait for the job to be run.\n",
        "\n",
        "    status = \"ready\"\n",
        "    while status != \"completed\":\n",
        "        time.sleep(1)  # wait for 1 second before querying again\n",
        "        status = query_job(job_id, ionq_api_headers)\n",
        "\n",
        "    return get_job_results(job_id, ionq_api_headers)"
      ]
    },
    {
      "cell_type": "code",
      "execution_count": 35,
      "metadata": {
        "id": "QOX95TW_fvAo"
      },
      "outputs": [],
      "source": [
        "def int_to_binary_numpy_array(integer, num_of_bits):\n",
        "    return np.array([(integer >> i) & 1 for i in range(num_of_bits)[::-1]])"
      ]
    },
    {
      "cell_type": "code",
      "execution_count": 36,
      "metadata": {
        "id": "Hnye0GbFWpeQ"
      },
      "outputs": [],
      "source": [
        "def hist_to_counts(hist_results, num_of_bits, shots):\n",
        "    counts = []\n",
        "    for key, val in hist_results.items():\n",
        "        counts.append((int_to_binary_numpy_array(int(key), num_of_bits), val * shots))\n",
        "    return counts\n",
        "\n",
        "def ionq_sim_process_result(ionq_sim_result, h_ising, J_ising, shots):\n",
        "    expect_val = 0\n",
        "    minimal_energy = None\n",
        "    optimal_string = None\n",
        "    qubits = h_ising.shape[0]\n",
        "    counts = hist_to_counts(ionq_sim_result, qubits, shots)\n",
        "    measurments = np.empty((shots, qubits))\n",
        "    shot_index = 0\n",
        "    for count in counts:\n",
        "        num_samples = int(np.round(count[1]))\n",
        "        if num_samples > 0:\n",
        "            measurments[shot_index:shot_index+num_samples] = count[0]\n",
        "            shot_index += num_samples\n",
        "\n",
        "    meas_ising = -2*measurments + 1\n",
        "    all_energies = np.diag(meas_ising @ J_ising @ meas_ising.T) + meas_ising @ h_ising\n",
        "    # find minimum and corresponding classical string\n",
        "    energy_min = np.min(all_energies)\n",
        "    optimal_string = meas_ising[np.argmin(all_energies)]\n",
        "    energy_expect = np.sum(all_energies) / shots\n",
        "    return energy_expect, energy_min, optimal_string"
      ]
    },
    {
      "cell_type": "markdown",
      "metadata": {
        "id": "K-dUnFd_8gBq"
      },
      "source": [
        "# QAOA"
      ]
    },
    {
      "cell_type": "markdown",
      "metadata": {
        "id": "bnN2Nk9CPfTp"
      },
      "source": [
        "## Helpers"
      ]
    },
    {
      "cell_type": "code",
      "execution_count": 37,
      "metadata": {
        "id": "gMcFKU6BWCTd"
      },
      "outputs": [],
      "source": [
        "def is_np_array_in_list(val, array_list):\n",
        "    for array in array_list:\n",
        "        if np.allclose(array, val):\n",
        "            return True\n",
        "    return False"
      ]
    },
    {
      "cell_type": "code",
      "source": [
        "known_optimal_solutions = [] # you could use bruteforce below to find them\n",
        "# example:\n",
        "# known_optimal_solutions = [-2*opt_x+1 for opt_x in opt_solutions]"
      ],
      "metadata": {
        "id": "7pT1mZYebrik"
      },
      "execution_count": 38,
      "outputs": []
    },
    {
      "cell_type": "code",
      "source": [
        "# the testing ones\n",
        "if real_num_activities == 3 and T == 4:\n",
        "    known_optimal_solutions = [-2*np.array([0, 1, 0, 1, 0, 0, 0, 1, 0, 0])+1, -2*np.array([1, 0, 0, 0, 1, 0, 0, 1, 0, 0])+1]\n",
        "if real_num_activities == 3 and T == 5:\n",
        "    known_optimal_solutions = [-2*np.array([0, 1, 0, 0, 1, 0, 0, 0, 1, 0, 0, 0])+1,\n",
        " np.array([1, 0, 0, 0, 1, 0, 0, 0, 1, 0, 0, 0])+1]\n",
        "if real_num_activities == 4 and T == 4:\n",
        "    known_optimal_solutions = [-2*np.array([1, 0, 0, 0, 0, 1, 0, 0, 0, 1, 0, 0, 0, 0, 1, 0])+1,\n",
        "    -2*np.array([1, 0, 0, 0, 1, 0, 0, 0, 0, 1, 0, 0, 0, 0, 1, 0])+1]\n",
        "if real_num_activities == 5:\n",
        "    known_optimal_solutions = [-2*np.array([0, 1, 0, 0, 0, 1, 0, 0, 1, 0, 0, 0, 1, 0, 0, 0, 0, 1, 0, 0])+1]"
      ],
      "metadata": {
        "id": "7pnQ58QSHKCv"
      },
      "execution_count": 39,
      "outputs": []
    },
    {
      "cell_type": "code",
      "execution_count": 40,
      "metadata": {
        "id": "2f4pV3Swmm1T"
      },
      "outputs": [],
      "source": [
        "def save_tracker_to_file(tracker):\n",
        "    # store results: dump output to pickle with timestamp in filename\n",
        "    time_now = datetime.strftime(datetime.now(), '%Y%m%d%H%M%S')\n",
        "    results_file = 'results-'+time_now+'.pkl'\n",
        "    print(f'Writing results to file: {results_file}')\n",
        "    pickle.dump(tracker, open(results_file, \"wb\"))"
      ]
    },
    {
      "cell_type": "markdown",
      "metadata": {
        "id": "eaxYze5bBFR9"
      },
      "source": [
        "## Circuit instructions"
      ]
    },
    {
      "cell_type": "code",
      "execution_count": 41,
      "metadata": {
        "id": "m1hlBcvyBKYL"
      },
      "outputs": [],
      "source": [
        "def mixer_layer_instructions(beta, n_qubits, instructions):\n",
        "    \"\"\"\n",
        "    mixer Hamiltonian U(Hb, beta)\n",
        "    \"\"\"\n",
        "\n",
        "    # apply parametrized rotation around x to every qubit\n",
        "    for qubit in range(n_qubits):\n",
        "        instructions.append(Rx(target=qubit, angle=2 * beta))\n",
        "\n",
        "\n",
        "def cost_layer_instructions(gamma, n_qubits, h_ising, J_ising, instructions):\n",
        "    \"\"\"\n",
        "    evolution with cost Hamiltonian\n",
        "    \"\"\"\n",
        "\n",
        "    for qubit in range(h_ising.shape[0]):  # single-qubit terms\n",
        "        if abs(h_ising[qubit]) > 1e-3:\n",
        "            instructions.append(Rz(target=qubit, angle=2 * gamma * h_ising[qubit]))\n",
        "\n",
        "    # two-qubit terms\n",
        "    for qubit1 in range(0, J_ising.shape[0]):\n",
        "        for qubit2 in range(qubit1 + 1, J_ising.shape[1]):\n",
        "            #print(J_ising[qubit1, qubit2])\n",
        "            if abs(J_ising[qubit1, qubit2]) > 1e-3:\n",
        "                #instructions.append(ZZ(targets=[qubit1, qubit2], angle=2 * gamma * J_ising[qubit1, qubit2]))\n",
        "                instructions.append(CNot(control=qubit1, target=qubit2))\n",
        "                instructions.append(Rz(target=qubit2, angle=2 * gamma * J_ising[qubit1, qubit2]))\n",
        "                instructions.append(CNot(control=qubit1, target=qubit2))\n",
        "\n",
        "\n",
        "def qaoa_circuit_instructions(params, n_qubits, h_ising, J_ising):\n",
        "    \"\"\"\n",
        "    function to return QAOA instructions\n",
        "    \"\"\"\n",
        "\n",
        "    instructions = []\n",
        "\n",
        "    for qubit in range(n_qubits):\n",
        "        instructions.append(H(target=qubit))\n",
        "\n",
        "    # setup two parameter families\n",
        "    circuit_length = int(len(params) / 2)\n",
        "    gammas = params[:circuit_length]\n",
        "    betas = params[circuit_length:]\n",
        "\n",
        "    # add QAOA circuit layer blocks\n",
        "    for mm in range(circuit_length):\n",
        "        cost_layer_instructions(gammas[mm], n_qubits, h_ising, J_ising, instructions)\n",
        "        mixer_layer_instructions(betas[mm], n_qubits, instructions)\n",
        "    return instructions"
      ]
    },
    {
      "cell_type": "markdown",
      "metadata": {
        "id": "4U5bZDhaVQxd"
      },
      "source": [
        "## Circuit"
      ]
    },
    {
      "cell_type": "code",
      "execution_count": 42,
      "metadata": {
        "id": "cSqpOswGHQO2"
      },
      "outputs": [],
      "source": [
        "@subroutine(register=True)\n",
        "def mixer_layer(beta, n_qubits):\n",
        "    \"\"\"\n",
        "    Returns circuit for mixer Hamiltonian U(Hb, beta)\n",
        "    \"\"\"\n",
        "    # instantiate circuit object\n",
        "    circ = Circuit()\n",
        "\n",
        "    # apply parametrized rotation around x to every qubit\n",
        "    for qubit in range(n_qubits):\n",
        "        gate = Circuit().rx(qubit, 2 * beta)\n",
        "        circ.add(gate)\n",
        "\n",
        "    return circ\n",
        "\n",
        "\n",
        "@subroutine(register=True)\n",
        "def cost_layer(gamma, n_qubits, h_ising, J_ising):\n",
        "    \"\"\"\n",
        "    returns circuit for evolution with cost Hamiltonian\n",
        "    \"\"\"\n",
        "    # instantiate circuit object\n",
        "    circ = Circuit()\n",
        "\n",
        "    for qubit in range(h_ising.shape[0]):  # single-qubit terms\n",
        "        if abs(h_ising[qubit]) > 1e-3:\n",
        "            gate = Circuit().rz(qubit, 2 * gamma * h_ising[qubit])\n",
        "            circ.add(gate)\n",
        "\n",
        "    # two-qubit terms\n",
        "    for qubit1 in range(0, J_ising.shape[0]):\n",
        "        for qubit2 in range(qubit1 + 1, J_ising.shape[1]):\n",
        "            if abs(J_ising[qubit1, qubit2]) > 1e-3:\n",
        "                gate = Circuit().zz(qubit1, qubit2, angle=2 * gamma * J_ising[qubit1, qubit2])\n",
        "                circ.add(gate)\n",
        "\n",
        "    return circ\n",
        "\n",
        "@subroutine(register=True)\n",
        "def qaoa_circuit(params, device, n_qubits, h_ising, J_ising):\n",
        "    \"\"\"\n",
        "    function to return full QAOA circuit\n",
        "    \"\"\"\n",
        "\n",
        "    circ = Circuit()\n",
        "\n",
        "    H_on_all = Circuit().h(range(0, n_qubits))\n",
        "    circ.add(H_on_all)\n",
        "\n",
        "    # setup two parameter families\n",
        "    circuit_length = int(len(params) / 2)\n",
        "    gammas = params[:circuit_length]\n",
        "    betas = params[circuit_length:]\n",
        "\n",
        "    # add QAOA circuit layer blocks\n",
        "    for mm in range(circuit_length):\n",
        "        circ.cost_layer(gammas[mm], n_qubits, h_ising, J_ising)\n",
        "        circ.mixer_layer(betas[mm], n_qubits)\n",
        "\n",
        "    return circ"
      ]
    },
    {
      "cell_type": "markdown",
      "metadata": {
        "id": "3kaSiTSEHSVl"
      },
      "source": [
        "## Cost function"
      ]
    },
    {
      "cell_type": "code",
      "execution_count": 43,
      "metadata": {
        "id": "yyltKNEo8jT4"
      },
      "outputs": [],
      "source": [
        "# function that computes cost function for given params\n",
        "def cost_function(params, qaoa_circuit, h_ising, J_ising, device, n_shots, tracker, verbose):\n",
        "    \"\"\"\n",
        "    cost function takes a list of variational parameters as input,\n",
        "    and returns the cost associated with those parameters\n",
        "    \"\"\"\n",
        "\n",
        "    if verbose:\n",
        "        print(\"==================================\" * 2)\n",
        "        print(\"Calling the quantum circuit. Cycle:\", tracker[\"count\"])\n",
        "\n",
        "    # create parameter dict\n",
        "    params_dict = {str(fp): p for fp, p in zip(qaoa_circuit.parameters, params)}\n",
        "\n",
        "    # execute depending on whether the backend is local or cloud based\n",
        "\n",
        "    if isinstance(device, str) and device == \"ionq_api_simulator\":\n",
        "        # run on ionq simulator\n",
        "        time_now = datetime.strftime(datetime.now(), '%Y%m%d%H%M%S')\n",
        "        request_data = ionq_api_request_data(qaoa_circuit_instructions(params, h_ising.shape[0], h_ising, J_ising),\n",
        "                                                               h_ising.shape[0], n_shots, time_now + \" QAOA circuit \" + str(tracker[\"count\"]))\n",
        "        result = ionq_api_submit_and_get_result(request_data)\n",
        "        energy_expect, energy_min, optimal_string = ionq_sim_process_result(result, h_ising, J_ising, n_shots)\n",
        "    elif isinstance(device, LocalSimulator):\n",
        "        # braket simulator\n",
        "        task = device.run(qaoa_circuit, shots=n_shots, inputs=params_dict)\n",
        "        result = task.result()\n",
        "        meas_ising = -2*result.measurements + 1\n",
        "        all_energies = np.diag(meas_ising @ J_ising @ meas_ising.T) + meas_ising @ h_ising\n",
        "        # find minimum and corresponding classical string\n",
        "        energy_min = np.min(all_energies)\n",
        "        optimal_string = meas_ising[np.argmin(all_energies)]\n",
        "        energy_expect = np.sum(all_energies) / n_shots\n",
        "\n",
        "\n",
        "    tracker[\"opt_energies\"].append(energy_min)\n",
        "    tracker[\"opt_ising_bitstrings\"].append(optimal_string)\n",
        "\n",
        "\n",
        "    # store global minimum\n",
        "    tracker[\"global_energies\"].append(tracker[\"optimal_energy\"])\n",
        "\n",
        "    # energy expectation value\n",
        "\n",
        "    if verbose:\n",
        "        print(\"Minimal energy:\", energy_min)\n",
        "        print(\"Optimal classical string:\", optimal_string)\n",
        "        print(\"Energy expectation value (cost):\", energy_expect)\n",
        "        print(\"Parameters:\", params)\n",
        "\n",
        "    # update tracker\n",
        "    tracker.update({\"count\": tracker[\"count\"] + 1, \"res\": result})\n",
        "    tracker[\"costs\"].append(energy_expect)\n",
        "    tracker[\"params\"].append(params)\n",
        "\n",
        "    if tracker['min_energy_expect'] is None or energy_expect < tracker['min_energy_expect']:\n",
        "        tracker.update({\"min_energy_expect\": energy_expect})\n",
        "        tracker.update({\"opt_params\": params})\n",
        "\n",
        "    # store optimal (classical) result/bitstring\n",
        "    if energy_min < tracker[\"optimal_energy\"] or np.allclose(energy_min, tracker[\"optimal_energy\"]):\n",
        "        tracker.update({\"optimal_energy\": energy_min})\n",
        "        tracker.update({\"optimal_bitstring\": ((-optimal_string+1)/2)})\n",
        "        if is_np_array_in_list(optimal_string, known_optimal_solutions):\n",
        "            end = time.time()\n",
        "            tracker.update({\"time\": end - tracker[\"time\"]})\n",
        "            print(\"Found optimal!\")\n",
        "            save_tracker_to_file(tracker)\n",
        "            raise RuntimeError(\"Found optimal solution\")\n",
        "\n",
        "    return energy_expect"
      ]
    },
    {
      "cell_type": "markdown",
      "metadata": {
        "id": "8DriLJLpHgm7"
      },
      "source": [
        "## Optimization (or training)"
      ]
    },
    {
      "cell_type": "code",
      "execution_count": 44,
      "metadata": {
        "id": "par6k0VOISZx"
      },
      "outputs": [],
      "source": [
        "# The function to execute the training: run classical minimization.\n",
        "def train(\n",
        "    device, options, p, h_ising, J_ising, n_qubits, n_shots, opt_method, tracker, gamma_initial, beta_initial, verbose=True\n",
        "):\n",
        "    \"\"\"\n",
        "    function to run QAOA algorithm for given, fixed circuit depth p\n",
        "    \"\"\"\n",
        "    print(\"Starting the training.\")\n",
        "\n",
        "    print(\"==================================\" * 2)\n",
        "    print(f\"OPTIMIZATION for circuit depth p={p}\")\n",
        "\n",
        "    if not verbose:\n",
        "        print('Param \"verbose\" set to False. Will not print intermediate steps.')\n",
        "        print(\"==================================\" * 2)\n",
        "\n",
        "    params0 = np.array(gamma_initial + beta_initial)\n",
        "\n",
        "    # set bounds for search space\n",
        "    bnds_gamma = [(0, 2 * np.pi) for _ in range(int(len(params0) / 2))]\n",
        "    bnds_beta = [(0, np.pi) for _ in range(int(len(params0) / 2))]\n",
        "    bnds = bnds_gamma + bnds_beta\n",
        "\n",
        "    tracker[\"params\"].append(params0)\n",
        "\n",
        "    gamma_params = [FreeParameter(f\"gamma_{i}\") for i in range(p)]\n",
        "    beta_params = [FreeParameter(f\"beta_{i}\") for i in range(p)]\n",
        "    params = gamma_params + beta_params\n",
        "    qaoa_circ = qaoa_circuit(params, device, n_qubits, h_ising, J_ising)\n",
        "    # run classical optimization\n",
        "    result = minimize(\n",
        "        cost_function,\n",
        "        params0,\n",
        "        args=(qaoa_circ, h_ising, J_ising, device, n_shots, tracker, verbose),\n",
        "        options=options,\n",
        "        method=opt_method,\n",
        "        bounds=bnds\n",
        "    )\n",
        "\n",
        "    # store result of classical optimization\n",
        "    result_energy = result.fun\n",
        "    result_angle = result.x\n",
        "\n",
        "    return result_energy, result_angle, tracker"
      ]
    },
    {
      "cell_type": "markdown",
      "metadata": {
        "id": "eD7XqWkcVV-x"
      },
      "source": [
        "## Classical optimization"
      ]
    },
    {
      "cell_type": "code",
      "execution_count": 45,
      "metadata": {
        "id": "walbPk3SJCFe"
      },
      "outputs": [],
      "source": [
        "device = LocalSimulator()\n",
        "#device = \"ionq_api_simulator\""
      ]
    },
    {
      "cell_type": "code",
      "execution_count": 46,
      "metadata": {
        "colab": {
          "base_uri": "https://localhost:8080/"
        },
        "id": "XLvfAPm2OZms",
        "outputId": "d9e5ac2f-72d5-4e30-f784-22e8fa45edf2"
      },
      "outputs": [
        {
          "output_type": "stream",
          "name": "stdout",
          "text": [
            "energy_init 348.385\n",
            "maximum number of cost function evaluations in one optimization:  26\n"
          ]
        }
      ],
      "source": [
        "##################################################################################\n",
        "# set up hyperparameters\n",
        "##################################################################################\n",
        "\n",
        "# User-defined hypers\n",
        "DEPTH = 1  # circuit depth for QAOA\n",
        "SHOTS = 2500 # 2500 # number measurements to make on circuit\n",
        "OPT_METHOD = 'Nelder-Mead'\n",
        "\n",
        "# set up the problem\n",
        "n_qubits = number_of_variables\n",
        "\n",
        "# initialize reference solution (simple guess)\n",
        "bitstring_init = -1 * np.ones([n_qubits])\n",
        "energy_init = bitstring_init @ J @ bitstring_init + h @ bitstring_init\n",
        "print(\"energy_init\", energy_init)\n",
        "\n",
        "# set tracker to keep track of results\n",
        "tracker = {\n",
        "    'count': 0,                           # Elapsed optimization steps\n",
        "    'optimal_energy': energy_init,        # Global optimal energy\n",
        "    'opt_energies': [],                   # Optimal energy at each step\n",
        "    'global_energies': [],                # Global optimal energy at each step\n",
        "    'optimal_bitstring': bitstring_init,  # Global optimal bitstring\n",
        "    'opt_ising_bitstrings': [],           # Optimal bitstring at each step\n",
        "    'costs': [],                          # Cost (average energy) at each step\n",
        "    'res': None,                          # Quantum result object\n",
        "    'params': [],                         # Track parameters\n",
        "    'opt_params': None,                   # Track optimal parameters\n",
        "    'min_energy_expect': None,            # Global minumum energy expectation value reached\n",
        "    'time': None                          # Time of the optimization\n",
        "}\n",
        "maxfev = int(np.floor((2**n_qubits / SHOTS)))\n",
        "if isinstance(device, str) and device == \"ionq_api_simulator\":\n",
        "    maxfev = 100\n",
        "print(\"maximum number of cost function evaluations in one optimization: \", maxfev)\n",
        "# set options for classical optimization\n",
        "options = {'disp': True, 'maxfev': maxfev}"
      ]
    },
    {
      "cell_type": "code",
      "execution_count": 47,
      "metadata": {
        "colab": {
          "base_uri": "https://localhost:8080/"
        },
        "id": "QCZ5emhlOarJ",
        "outputId": "29ec3c9d-9225-4eb1-f20a-686d02bf0a70"
      },
      "outputs": [
        {
          "output_type": "stream",
          "name": "stdout",
          "text": [
            "Number of qubits: 16\n",
            "Starting the training.\n",
            "====================================================================\n",
            "OPTIMIZATION for circuit depth p=1\n",
            "====================================================================\n",
            "Calling the quantum circuit. Cycle: 0\n",
            "Minimal energy: -102.97500000000001\n",
            "Optimal classical string: [ 1  1 -1  1  1  1 -1  1  1  1 -1  1  1  1  1 -1]\n",
            "Energy expectation value (cost): -0.9340819999999996\n",
            "Parameters: [2.73943676 0.08144966]\n",
            "====================================================================\n",
            "Calling the quantum circuit. Cycle: 1\n",
            "Minimal energy: -97.89999999999998\n",
            "Optimal classical string: [-1  1  1  1 -1 -1  1  1 -1  1  1  1  1  1 -1  1]\n",
            "Energy expectation value (cost): -0.2844520000000003\n",
            "Parameters: [2.8764086  0.08144966]\n",
            "====================================================================\n",
            "Calling the quantum circuit. Cycle: 2\n",
            "Minimal energy: -100.75999999999999\n",
            "Optimal classical string: [ 1 -1  1  1  1 -1  1  1  1  1  1  1 -1  1  1  1]\n",
            "Energy expectation value (cost): 1.118526\n",
            "Parameters: [2.73943676 0.08552214]\n",
            "====================================================================\n",
            "Calling the quantum circuit. Cycle: 3\n",
            "Minimal energy: -104.975\n",
            "Optimal classical string: [-1  1  1  1 -1  1  1  1  1  1 -1  1  1  1  1 -1]\n",
            "Energy expectation value (cost): 0.7184399999999997\n",
            "Parameters: [2.8764086  0.07737718]\n",
            "====================================================================\n",
            "Calling the quantum circuit. Cycle: 4\n",
            "Minimal energy: -104.975\n",
            "Optimal classical string: [-1  1  1  1 -1  1  1  1  1 -1  1  1  1  1 -1  1]\n",
            "Energy expectation value (cost): -0.8562920000000006\n",
            "Parameters: [2.84216564 0.07941342]\n",
            "Found optimal!\n",
            "Writing results to file: results-20240529003922.pkl\n",
            "Optimal solution:  [1. 0. 0. 0. 1. 0. 0. 0. 0. 1. 0. 0. 0. 0. 1. 0.]\n",
            "Code execution time [sec]: 2.271010160446167\n"
          ]
        }
      ],
      "source": [
        "np.random.seed(2)\n",
        "print('Number of qubits:', n_qubits)\n",
        "# run QAOA optimization\n",
        "start_time = time.time()\n",
        "tracker.update({\"time\": start_time})\n",
        "try:\n",
        "    while True: # we expect exception when optimal solution is done, because it is painful to implement it otherwise, tracker results are saved\n",
        "        gamma_initial = np.random.uniform(0, 2 * np.pi, DEPTH).tolist()\n",
        "        beta_initial = np.random.uniform(0, np.pi, DEPTH).tolist()\n",
        "        # start training\n",
        "        result_energy, result_angle, tracker = train(\n",
        "            device = device, options=options, p=DEPTH, h_ising=h, J_ising = J, n_qubits=n_qubits, n_shots=SHOTS,\n",
        "            opt_method=OPT_METHOD, tracker=tracker, gamma_initial = gamma_initial,\n",
        "                beta_initial = beta_initial, verbose=True)\n",
        "except:\n",
        "    print(\"Optimal solution: \", tracker['optimal_bitstring'])\n",
        "    print('Code execution time [sec]:', tracker[\"time\"])\n"
      ]
    },
    {
      "cell_type": "markdown",
      "metadata": {
        "id": "Y1HJw10yxZHU"
      },
      "source": [
        "# Visualization"
      ]
    },
    {
      "cell_type": "code",
      "execution_count": 49,
      "metadata": {
        "id": "Iyl7GZ4WxcB2"
      },
      "outputs": [],
      "source": [
        "def visualize_solution(x, offset_activity_num=0):\n",
        "    fig, ax = pl.subplots()\n",
        "    lines = []\n",
        "    for i in range(0, x.shape[0]):\n",
        "        if x[i] == 1:\n",
        "            activity, time = from_index_to_activity_time(i)\n",
        "            print(i, activity, time)\n",
        "            if activity_processing_time[activity] > 0:\n",
        "                lines.append([(time, activity), (time + activity_processing_time[activity], activity)])\n",
        "                ax.text(time + activity_processing_time[activity] / 2, activity + 0.1, f'{activity + offset_activity_num}')\n",
        "\n",
        "    lc = mc.LineCollection(lines, linewidths=2)\n",
        "    ax.add_collection(lc)\n",
        "    ax.set_xlabel('час', fontsize=18)\n",
        "    ax.set_ylabel('дія', fontsize=18)\n",
        "    ax.autoscale()\n",
        "    ax.margins(0.1)"
      ]
    },
    {
      "cell_type": "code",
      "execution_count": 50,
      "metadata": {
        "colab": {
          "base_uri": "https://localhost:8080/",
          "height": 548
        },
        "id": "HQanWkssuygu",
        "outputId": "3b501109-ba2e-4e36-a21f-b863af416ea1"
      },
      "outputs": [
        {
          "output_type": "stream",
          "name": "stdout",
          "text": [
            "0 0 0\n",
            "4 1 1\n",
            "9 2 1\n",
            "14 3 3\n"
          ]
        },
        {
          "output_type": "display_data",
          "data": {
            "text/plain": [
              "<Figure size 640x480 with 1 Axes>"
            ],
            "image/png": "[encoded data removed]"
          },
          "metadata": {}
        }
      ],
      "source": [
        "visualize_solution(tracker['optimal_bitstring'])"
      ]
    },
    {
      "cell_type": "markdown",
      "metadata": {
        "id": "pn1PYmECiX6m"
      },
      "source": [
        "#Brute force"
      ]
    },
    {
      "cell_type": "code",
      "execution_count": 51,
      "metadata": {
        "id": "3SoEKyqU2Hrc"
      },
      "outputs": [],
      "source": [
        "Q_without_resource_constraints = np.zeros((number_of_variables, number_of_variables))\n",
        "offset_without_resource_constraints = 0.0\n",
        "add_objective_function(Q_without_resource_constraints, end_activity)\n",
        "offset_without_resource_constraints = add_activity_one_start_penalty(Q_without_resource_constraints, offset_without_resource_constraints, one_start_penalty)\n",
        "add_precedence_penalty(Q_without_resource_constraints, precedence_penalty)"
      ]
    },
    {
      "cell_type": "code",
      "execution_count": 52,
      "metadata": {
        "id": "rzqHCBEJ0NZM"
      },
      "outputs": [],
      "source": [
        "def check_resourse_constraints(x):\n",
        "    for t in range(0, latest_start[end_activity]+1):\n",
        "        for k in range(0, number_of_recourses):\n",
        "            consuption = 0\n",
        "            for i in range(0, num_activities):\n",
        "                    for r in range(max(t - activity_processing_time[i] + 1, earliest_start[i]), min(t, latest_start[i])+1):\n",
        "                        consuption += resourse_consumption[i, k] * x[activity_time_to_index(i, r)]\n",
        "            if consuption > resourse_capacity[k]:\n",
        "                return False\n",
        "    return True"
      ]
    },
    {
      "cell_type": "code",
      "execution_count": 53,
      "metadata": {
        "id": "-DkDqWqR3Hlz"
      },
      "outputs": [],
      "source": [
        "def Q_true_cost(x):\n",
        "    cost = x @ Q_without_resource_constraints @ x + offset_without_resource_constraints\n",
        "    if not check_resourse_constraints(x):\n",
        "        cost += 100\n",
        "    return cost"
      ]
    },
    {
      "cell_type": "code",
      "execution_count": 54,
      "metadata": {
        "id": "OOQ8wwRViZsi"
      },
      "outputs": [],
      "source": [
        "def brute_force_sol(Q):\n",
        "    opt_x = np.array([0] * int(Q.shape[0]))\n",
        "    minimal_energy = (opt_x.T @ Q @ opt_x) + qubo_offset\n",
        "    maximum_opt_energy = None\n",
        "    minumum_true_cost = Q_true_cost(opt_x)\n",
        "    for bitstr in itertools.product([0, 1], repeat=number_of_variables):\n",
        "        x = np.array(bitstr)\n",
        "        energy = (x.T @ Q @ x) + qubo_offset\n",
        "        if energy < minimal_energy:\n",
        "            minimal_energy = energy\n",
        "            opt_x = x\n",
        "        true_cost = Q_true_cost(x)\n",
        "        if true_cost < minumum_true_cost or (np.allclose(minumum_true_cost, true_cost) and (maximum_opt_energy is None or maximum_opt_energy < energy)):\n",
        "            minumum_true_cost = true_cost\n",
        "            maximum_opt_energy = energy\n",
        "    return opt_x, minumum_true_cost, minimal_energy, maximum_opt_energy"
      ]
    },
    {
      "cell_type": "markdown",
      "source": [
        "you can use it like this"
      ],
      "metadata": {
        "id": "gKkNmRtAb8Il"
      }
    },
    {
      "cell_type": "code",
      "execution_count": 55,
      "metadata": {
        "id": "Mo7-m4OJYLK8"
      },
      "outputs": [],
      "source": [
        "# opt_x, minumum_true_cost, minimal_energy, maximum_opt_energy = brute_force_sol(Q)\n",
        "# print(opt_x)\n",
        "# print(minumum_true_cost)\n",
        "# print(minimal_energy)\n",
        "# print(maximum_opt_energy)"
      ]
    },
    {
      "cell_type": "markdown",
      "source": [
        "you can after that find all optimal solutions with that true cost"
      ],
      "metadata": {
        "id": "MGHI3H4BcC-j"
      }
    },
    {
      "cell_type": "code",
      "execution_count": 56,
      "metadata": {
        "id": "Ol4mFtzLGYEC"
      },
      "outputs": [],
      "source": [
        "def all_sol_with_optimal_cost(optimal_cost):\n",
        "    solutions = []\n",
        "    for bitstr in itertools.product([0, 1], repeat=number_of_variables):\n",
        "        x = np.array(bitstr)\n",
        "        cost_without_resource_constraints = x @ Q_without_resource_constraints @ x + offset_without_resource_constraints\n",
        "        if np.allclose(cost_without_resource_constraints, optimal_cost):\n",
        "            if check_resourse_constraints(x):\n",
        "                solutions.append(x)\n",
        "    return solutions"
      ]
    },
    {
      "cell_type": "code",
      "execution_count": 57,
      "metadata": {
        "id": "b2rknmpt1hRw"
      },
      "outputs": [],
      "source": [
        "opt_solutions = all_sol_with_optimal_cost(3.0)"
      ]
    },
    {
      "cell_type": "code",
      "source": [
        "opt_solutions"
      ],
      "metadata": {
        "id": "LPOSVnwIQN_a",
        "colab": {
          "base_uri": "https://localhost:8080/"
        },
        "outputId": "1c5759a9-752c-4244-e713-54c307754711"
      },
      "execution_count": 58,
      "outputs": [
        {
          "output_type": "execute_result",
          "data": {
            "text/plain": [
              "[array([1, 0, 0, 0, 0, 1, 0, 0, 0, 1, 0, 0, 0, 0, 1, 0]),\n",
              " array([1, 0, 0, 0, 1, 0, 0, 0, 0, 1, 0, 0, 0, 0, 1, 0])]"
            ]
          },
          "metadata": {},
          "execution_count": 58
        }
      ]
    }
  ],
  "metadata": {
    "colab": {
      "collapsed_sections": [
        "A6fMLiQ_qpDj",
        "LXkQpiUzqsUW",
        "0nCPSpI3fAgy",
        "MvfAjf6NsBCW",
        "YtVEqPd_XfYt",
        "IPvnGR-jXlIu",
        "zFto3XZYYLEq",
        "Hd8r5qibMzvU",
        "cU9Q8C3xvYiw",
        "J0PC165kHHoR",
        "TiTvUW34RSYm",
        "sWH4cUFEE9dE",
        "bnN2Nk9CPfTp",
        "eaxYze5bBFR9",
        "4U5bZDhaVQxd",
        "3kaSiTSEHSVl",
        "8DriLJLpHgm7",
        "eD7XqWkcVV-x",
        "Y1HJw10yxZHU",
        "pn1PYmECiX6m"
      ],
      "provenance": [],
      "authorship_tag": "ABX9TyNcQlEuG+HGQnUCCUwYIwyY",
      "include_colab_link": true
    },
    "kernelspec": {
      "display_name": "Python 3",
      "name": "python3"
    },
    "language_info": {
      "name": "python"
    }
  },
  "nbformat": 4,
  "nbformat_minor": 0
}