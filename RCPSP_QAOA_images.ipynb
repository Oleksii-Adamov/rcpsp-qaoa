{
  "nbformat": 4,
  "nbformat_minor": 0,
  "metadata": {
    "colab": {
      "provenance": [],
      "collapsed_sections": [
        "PDB5qdM2lNh2",
        "QpM2i_GFlYM0",
        "fwyERTfic2Cj",
        "KLRnTk7Kd4OY",
        "H394Phydduki",
        "idyQrgGBof10",
        "Q3jiSI9tpgGU",
        "1uH38iNHyv0x"
      ],
      "authorship_tag": "ABX9TyPAxFAnqLIXE5S2aD1Iq55X",
      "include_colab_link": true
    },
    "kernelspec": {
      "name": "python3",
      "display_name": "Python 3"
    },
    "language_info": {
      "name": "python"
    }
  },
  "cells": [
    {
      "cell_type": "markdown",
      "metadata": {
        "id": "view-in-github",
        "colab_type": "text"
      },
      "source": [
        "<a href=\"https://colab.research.google.com/github/Oleksii-Adamov/rcpsp-qaoa/blob/main/RCPSP_QAOA_images.ipynb\" target=\"_parent\"><img src=\"https://colab.research.google.com/assets/colab-badge.svg\" alt=\"Open In Colab\"/></a>"
      ]
    },
    {
      "cell_type": "markdown",
      "source": [
        "# Imports"
      ],
      "metadata": {
        "id": "PDB5qdM2lNh2"
      }
    },
    {
      "cell_type": "code",
      "execution_count": 1,
      "metadata": {
        "colab": {
          "base_uri": "https://localhost:8080/"
        },
        "id": "GXPVj0YZXuHm",
        "outputId": "99b007e8-fcd8-4bdc-de01-caba194e9979"
      },
      "outputs": [
        {
          "output_type": "stream",
          "name": "stdout",
          "text": [
            "Collecting pennylane\n",
            "  Downloading PennyLane-0.36.0-py3-none-any.whl (1.7 MB)\n",
            "\u001b[2K     \u001b[90m━━━━━━━━━━━━━━━━━━━━━━━━━━━━━━━━━━━━━━━━\u001b[0m \u001b[32m1.7/1.7 MB\u001b[0m \u001b[31m7.1 MB/s\u001b[0m eta \u001b[36m0:00:00\u001b[0m\n",
            "\u001b[?25hRequirement already satisfied: numpy<2.0 in /usr/local/lib/python3.10/dist-packages (from pennylane) (1.25.2)\n",
            "Requirement already satisfied: scipy in /usr/local/lib/python3.10/dist-packages (from pennylane) (1.11.4)\n",
            "Requirement already satisfied: networkx in /usr/local/lib/python3.10/dist-packages (from pennylane) (3.3)\n",
            "Collecting rustworkx (from pennylane)\n",
            "  Downloading rustworkx-0.14.2-cp310-cp310-manylinux_2_17_x86_64.manylinux2014_x86_64.whl (2.1 MB)\n",
            "\u001b[2K     \u001b[90m━━━━━━━━━━━━━━━━━━━━━━━━━━━━━━━━━━━━━━━━\u001b[0m \u001b[32m2.1/2.1 MB\u001b[0m \u001b[31m13.3 MB/s\u001b[0m eta \u001b[36m0:00:00\u001b[0m\n",
            "\u001b[?25hRequirement already satisfied: autograd in /usr/local/lib/python3.10/dist-packages (from pennylane) (1.6.2)\n",
            "Requirement already satisfied: toml in /usr/local/lib/python3.10/dist-packages (from pennylane) (0.10.2)\n",
            "Collecting appdirs (from pennylane)\n",
            "  Downloading appdirs-1.4.4-py2.py3-none-any.whl (9.6 kB)\n",
            "Collecting semantic-version>=2.7 (from pennylane)\n",
            "  Downloading semantic_version-2.10.0-py2.py3-none-any.whl (15 kB)\n",
            "Collecting autoray>=0.6.1 (from pennylane)\n",
            "  Downloading autoray-0.6.12-py3-none-any.whl (50 kB)\n",
            "\u001b[2K     \u001b[90m━━━━━━━━━━━━━━━━━━━━━━━━━━━━━━━━━━━━━━━━\u001b[0m \u001b[32m51.0/51.0 kB\u001b[0m \u001b[31m6.9 MB/s\u001b[0m eta \u001b[36m0:00:00\u001b[0m\n",
            "\u001b[?25hRequirement already satisfied: cachetools in /usr/local/lib/python3.10/dist-packages (from pennylane) (5.3.3)\n",
            "Collecting pennylane-lightning>=0.36 (from pennylane)\n",
            "  Downloading PennyLane_Lightning-0.36.0-cp310-cp310-manylinux_2_17_x86_64.manylinux2014_x86_64.whl (19.1 MB)\n",
            "\u001b[2K     \u001b[90m━━━━━━━━━━━━━━━━━━━━━━━━━━━━━━━━━━━━━━━━\u001b[0m \u001b[32m19.1/19.1 MB\u001b[0m \u001b[31m41.3 MB/s\u001b[0m eta \u001b[36m0:00:00\u001b[0m\n",
            "\u001b[?25hRequirement already satisfied: requests in /usr/local/lib/python3.10/dist-packages (from pennylane) (2.31.0)\n",
            "Requirement already satisfied: typing-extensions in /usr/local/lib/python3.10/dist-packages (from pennylane) (4.11.0)\n",
            "Requirement already satisfied: future>=0.15.2 in /usr/local/lib/python3.10/dist-packages (from autograd->pennylane) (0.18.3)\n",
            "Requirement already satisfied: charset-normalizer<4,>=2 in /usr/local/lib/python3.10/dist-packages (from requests->pennylane) (3.3.2)\n",
            "Requirement already satisfied: idna<4,>=2.5 in /usr/local/lib/python3.10/dist-packages (from requests->pennylane) (3.7)\n",
            "Requirement already satisfied: urllib3<3,>=1.21.1 in /usr/local/lib/python3.10/dist-packages (from requests->pennylane) (2.0.7)\n",
            "Requirement already satisfied: certifi>=2017.4.17 in /usr/local/lib/python3.10/dist-packages (from requests->pennylane) (2024.2.2)\n",
            "Installing collected packages: appdirs, semantic-version, rustworkx, autoray, pennylane-lightning, pennylane\n",
            "Successfully installed appdirs-1.4.4 autoray-0.6.12 pennylane-0.36.0 pennylane-lightning-0.36.0 rustworkx-0.14.2 semantic-version-2.10.0\n"
          ]
        }
      ],
      "source": [
        "!pip install pennylane"
      ]
    },
    {
      "cell_type": "code",
      "source": [
        "import pennylane as qml"
      ],
      "metadata": {
        "id": "-em7I2Jf1BqL"
      },
      "execution_count": 2,
      "outputs": []
    },
    {
      "cell_type": "code",
      "source": [
        "import numpy as np\n",
        "import matplotlib as plt\n",
        "from matplotlib import pyplot as plt\n",
        "from functools import partial\n",
        "import networkx as nx\n",
        "import pylab as pl\n",
        "from matplotlib import collections  as mc"
      ],
      "metadata": {
        "id": "9YZPzfXlYkw7"
      },
      "execution_count": 3,
      "outputs": []
    },
    {
      "cell_type": "markdown",
      "source": [
        "# Bell state (circuit example)"
      ],
      "metadata": {
        "id": "VsVXy-HRlP4f"
      }
    },
    {
      "cell_type": "code",
      "source": [
        "wires = range(0, 2)"
      ],
      "metadata": {
        "id": "iiImsfI3YK6A"
      },
      "execution_count": 13,
      "outputs": []
    },
    {
      "cell_type": "code",
      "source": [
        "dev = qml.device('default.qubit', wires=wires, shots=100)"
      ],
      "metadata": {
        "id": "dR4xJV_YYJWk"
      },
      "execution_count": 14,
      "outputs": []
    },
    {
      "cell_type": "code",
      "source": [
        "@qml.qnode(dev)\n",
        "def bell_state0():\n",
        "    qml.Hadamard(wires=0)\n",
        "    qml.CNOT(wires=[0, 1])\n",
        "    return qml.counts(wires=wires)"
      ],
      "metadata": {
        "id": "_8YHzubRYFrN"
      },
      "execution_count": 15,
      "outputs": []
    },
    {
      "cell_type": "code",
      "source": [
        "counts = bell_state0()"
      ],
      "metadata": {
        "id": "KjHuFfrcYw19"
      },
      "execution_count": 16,
      "outputs": []
    },
    {
      "cell_type": "code",
      "source": [
        "counts"
      ],
      "metadata": {
        "colab": {
          "base_uri": "https://localhost:8080/"
        },
        "id": "pwyJkm39Y3NC",
        "outputId": "e8db1e47-7862-4cdf-9b3f-70b7f4328785"
      },
      "execution_count": 17,
      "outputs": [
        {
          "output_type": "execute_result",
          "data": {
            "text/plain": [
              "{'00': tensor(54, requires_grad=True), '11': tensor(46, requires_grad=True)}"
            ]
          },
          "metadata": {},
          "execution_count": 17
        }
      ]
    },
    {
      "cell_type": "code",
      "source": [
        "qml.draw_mpl(bell_state0)"
      ],
      "metadata": {
        "colab": {
          "base_uri": "https://localhost:8080/",
          "height": 123
        },
        "id": "UAtRvSytZssE",
        "outputId": "a568554a-b285-490f-ebb3-dcced789ea28"
      },
      "execution_count": 18,
      "outputs": [
        {
          "output_type": "execute_result",
          "data": {
            "text/plain": [
              "<function __main__.bell_state0()>"
            ],
            "text/html": [
              "<div style=\"max-width:800px; border: 1px solid var(--colab-border-color);\"><style>\n",
              "      pre.function-repr-contents {\n",
              "        overflow-x: auto;\n",
              "        padding: 8px 12px;\n",
              "        max-height: 500px;\n",
              "      }\n",
              "\n",
              "      pre.function-repr-contents.function-repr-contents-collapsed {\n",
              "        cursor: pointer;\n",
              "        max-height: 100px;\n",
              "      }\n",
              "    </style>\n",
              "    <pre style=\"white-space: initial; background:\n",
              "         var(--colab-secondary-surface-color); padding: 8px 12px;\n",
              "         border-bottom: 1px solid var(--colab-border-color);\"><b>bell_state0</b><br/>def bell_state0()</pre><pre class=\"function-repr-contents function-repr-contents-collapsed\" style=\"\"><a class=\"filepath\" style=\"display:none\" href=\"#\">/content/&lt;ipython-input-15-d961a59a32c2&gt;</a>&lt;no docstring&gt;</pre></div>"
            ]
          },
          "metadata": {},
          "execution_count": 18
        }
      ]
    },
    {
      "cell_type": "code",
      "source": [
        "fig = qml.drawer.draw_mpl(bell_state0)"
      ],
      "metadata": {
        "id": "D2DDdGG6aGk2"
      },
      "execution_count": 19,
      "outputs": []
    },
    {
      "cell_type": "code",
      "source": [
        "fig()"
      ],
      "metadata": {
        "colab": {
          "base_uri": "https://localhost:8080/",
          "height": 374
        },
        "id": "Og4CniE0aYlL",
        "outputId": "30f22d86-e48f-4ca0-9ef2-059a9476d5b7"
      },
      "execution_count": 20,
      "outputs": [
        {
          "output_type": "execute_result",
          "data": {
            "text/plain": [
              "(<Figure size 500x300 with 1 Axes>, <Axes: >)"
            ]
          },
          "metadata": {},
          "execution_count": 20
        },
        {
          "output_type": "display_data",
          "data": {
            "text/plain": [
              "<Figure size 500x300 with 1 Axes>"
            ],
            "image/png": "[encoded data removed]"
          },
          "metadata": {}
        }
      ]
    },
    {
      "cell_type": "markdown",
      "source": [
        "# QAOA circuit"
      ],
      "metadata": {
        "id": "QpM2i_GFlYM0"
      }
    },
    {
      "cell_type": "code",
      "source": [
        "# black and white style\n",
        "plt.rcParams[\"savefig.facecolor\"] = \"white\"\n",
        "plt.rcParams[\"figure.facecolor\"] = \"white\"\n",
        "plt.rcParams[\"axes.facecolor\"] = \"white\"\n",
        "plt.rcParams[\"patch.facecolor\"] = \"white\"\n",
        "plt.rcParams[\"patch.edgecolor\"] = \"black\"\n",
        "plt.rcParams[\"patch.linewidth\"] = 3.0\n",
        "plt.rcParams[\"patch.force_edgecolor\"] = True\n",
        "plt.rcParams[\"lines.color\"] = \"black\"\n",
        "plt.rcParams[\"text.color\"] = \"black\"\n",
        "plt.rcParams[\"path.sketch\"] = None\n",
        "plt.rcParams[\"font.weight\"] = \"normal\"\n",
        "plt.rcParams[\"lines.linewidth\"] = 1.5"
      ],
      "metadata": {
        "id": "KKnbEzTgzERI"
      },
      "execution_count": 21,
      "outputs": []
    },
    {
      "cell_type": "code",
      "source": [
        "n_wires = 4\n",
        "wires = range(0, n_wires)\n",
        "drawer = qml.drawer.MPLDrawer(n_wires=n_wires, n_layers=6)\n",
        "drawer.label([\"0\", \"1\", \"...\", \"n\"])\n",
        "# Hadamards\n",
        "for wire in range(0, n_wires):\n",
        "    drawer.box_gate(layer=0, wires=wire, text=\"H\")\n",
        "# Cost layer\n",
        "drawer.box_gate(layer=1, wires=wires, text= r\"$e^-i\\gamma_1 H_c$\")\n",
        "# Mixer layer\n",
        "for wire in range(0, n_wires):\n",
        "    drawer.box_gate(layer=2, wires=wire, text=r\"$R_x(2\\beta_1)$\")\n",
        "# dots layers\n",
        "drawer.box_gate(layer=3, wires=wires, text= \"...\")\n",
        "# Cost layer\n",
        "drawer.box_gate(layer=4, wires=wires, text= r\"$e^-i\\gamma_p H_c$\")\n",
        "# Mixer layer\n",
        "for wire in range(0, n_wires):\n",
        "    drawer.box_gate(layer=5, wires=wire, text=r\"$R_x(2\\beta_p)$\")\n",
        "drawer.box_gate(layer=6, wires=wires, text= r\"$\\langle\\psi(\\gamma,\\beta)|H_c|\\psi(\\gamma,\\beta)\\rangle$\")"
      ],
      "metadata": {
        "colab": {
          "base_uri": "https://localhost:8080/",
          "height": 54
        },
        "id": "GhOIWBpAlbUI",
        "outputId": "7b1e0672-5f84-437f-ba14-ba2efa6982e1"
      },
      "execution_count": 22,
      "outputs": [
        {
          "output_type": "display_data",
          "data": {
            "text/plain": [
              "<Figure size 900x500 with 1 Axes>"
            ],
            "image/png": "[encoded data removed]"
          },
          "metadata": {}
        }
      ]
    },
    {
      "cell_type": "code",
      "source": [
        "drawer.fig.savefig('qaoa.jpg')"
      ],
      "metadata": {
        "id": "2ng05JUJyg-B"
      },
      "execution_count": 23,
      "outputs": []
    },
    {
      "cell_type": "markdown",
      "source": [
        "# RCPSP visualisation"
      ],
      "metadata": {
        "id": "G2crlFmH5PVt"
      }
    },
    {
      "cell_type": "markdown",
      "source": [
        "## Problem"
      ],
      "metadata": {
        "id": "fwyERTfic2Cj"
      }
    },
    {
      "cell_type": "code",
      "source": [
        "real_num_activities = 3\n",
        "T = 3\n",
        "precedence_graph_edges = np.array([[1, 2], [1, 3]])\n",
        "activity_processing_time = np.array([1, 1, 2])\n",
        "resourse_capacity = np.array([3, 3])\n",
        "resourse_consumption = np.array([[1, 2], [0, 2], [1, 1]])\n",
        "number_of_recourses = resourse_capacity.shape[0]"
      ],
      "metadata": {
        "id": "qZOd4cX35S_H"
      },
      "execution_count": 56,
      "outputs": []
    },
    {
      "cell_type": "markdown",
      "source": [
        "## Problem visualization"
      ],
      "metadata": {
        "id": "KLRnTk7Kd4OY"
      }
    },
    {
      "cell_type": "code",
      "source": [
        "def draw_rcpsp(num_activities, precedence_graph_edges, activity_processing_time, resourse_consumption, starting_activity=0):\n",
        "\n",
        "    G = nx.from_edgelist(precedence_graph_edges, create_using=nx.DiGraph)\n",
        "\n",
        "    for i in range(0, num_activities):\n",
        "        if not G.has_node(i):\n",
        "            G.add_node(i)\n",
        "\n",
        "    pos=nx.bfs_layout(G, starting_activity)\n",
        "\n",
        "    pos_higher = {}\n",
        "    pos_lower = {}\n",
        "\n",
        "    for k, v in pos.items():\n",
        "        pos_higher[k] = (v[0], v[1]+0.05)\n",
        "        pos_lower[k] = (v[0], v[1]-0.05)\n",
        "\n",
        "    duration_labels_dict = {}\n",
        "    for i in range(0, num_activities):\n",
        "        duration_labels_dict[i] = str(activity_processing_time[i])\n",
        "\n",
        "    resource_labels_dict = {}\n",
        "    for i in range(0, num_activities):\n",
        "        label = \"\"\n",
        "        for k in range(0, resourse_consumption.shape[1]):\n",
        "            label = label + str(resourse_consumption[i, k])\n",
        "            if k < resourse_consumption.shape[1] - 1:\n",
        "                label = label + \", \"\n",
        "        resource_labels_dict[i] = label\n",
        "\n",
        "    nx.draw(G, pos, with_labels=True)\n",
        "    nx.draw_networkx_labels(G, pos_higher, duration_labels_dict)\n",
        "    nx.draw_networkx_labels(G, pos_lower, resource_labels_dict)"
      ],
      "metadata": {
        "id": "6lcPYGuPd64V"
      },
      "execution_count": 57,
      "outputs": []
    },
    {
      "cell_type": "markdown",
      "source": [
        "## Visualize with dummy activities"
      ],
      "metadata": {
        "id": "H394Phydduki"
      }
    },
    {
      "cell_type": "code",
      "source": [
        "def add_dummy_activities(real_num_activities, precedence_graph_edges, activity_processing_time, resourse_consumption):\n",
        "    num_activities = real_num_activities + 2\n",
        "    has_outcoming = [False] * (real_num_activities+1)\n",
        "    has_incoming = [False] * (real_num_activities+1)\n",
        "    for edge in precedence_graph_edges:\n",
        "        has_outcoming[int(edge[0])] = True\n",
        "        has_incoming[int(edge[1])] = True\n",
        "\n",
        "    # add to graph\n",
        "    for i in range(1, real_num_activities+1):\n",
        "        if not has_outcoming[i]:\n",
        "            precedence_graph_edges = np.concatenate([precedence_graph_edges, [[i, real_num_activities+1]]])\n",
        "        if not has_incoming[i]:\n",
        "            precedence_graph_edges = np.concatenate([precedence_graph_edges, [[0, i]]])\n",
        "    # add processing time\n",
        "    activity_processing_time = np.concatenate([[0], activity_processing_time, [0]])\n",
        "    # add to resources 0 consumption\n",
        "    resourse_consumption = np.concatenate([[[0] * number_of_recourses], resourse_consumption, [[0] * number_of_recourses]])\n",
        "    return num_activities, precedence_graph_edges, activity_processing_time, resourse_consumption"
      ],
      "metadata": {
        "id": "qTaNg1nj5sZv"
      },
      "execution_count": 58,
      "outputs": []
    },
    {
      "cell_type": "code",
      "source": [
        "num_activities_d, precedence_graph_edges_d, activity_processing_time_d, resourse_consumption_d = add_dummy_activities(real_num_activities, precedence_graph_edges, activity_processing_time, resourse_consumption)"
      ],
      "metadata": {
        "id": "9FRym7L5hg6v"
      },
      "execution_count": 59,
      "outputs": []
    },
    {
      "cell_type": "code",
      "source": [
        "draw_rcpsp(num_activities_d, precedence_graph_edges_d, activity_processing_time_d, resourse_consumption_d)"
      ],
      "metadata": {
        "colab": {
          "base_uri": "https://localhost:8080/",
          "height": 54
        },
        "id": "3l5WlgLNhtBA",
        "outputId": "b5387751-eaa4-4a50-c58d-6c36f2fd37c1"
      },
      "execution_count": 60,
      "outputs": [
        {
          "output_type": "display_data",
          "data": {
            "text/plain": [
              "<Figure size 640x480 with 1 Axes>"
            ],
            "image/png": "[encoded data removed]"
          },
          "metadata": {}
        }
      ]
    },
    {
      "cell_type": "markdown",
      "source": [
        "## Visualize solution"
      ],
      "metadata": {
        "id": "idyQrgGBof10"
      }
    },
    {
      "cell_type": "markdown",
      "source": [
        "### Preparing"
      ],
      "metadata": {
        "id": "Q3jiSI9tpgGU"
      }
    },
    {
      "cell_type": "code",
      "source": [
        "def add_smart_dummy_activities_no_start(real_num_activities, precedence_graph_edges, activity_processing_time, resourse_consumption):\n",
        "    num_activities = real_num_activities\n",
        "    starting_activity = None\n",
        "    end_activity = None\n",
        "\n",
        "    has_outcoming = [False] * (real_num_activities+1)\n",
        "    has_incoming = [False] * (real_num_activities+1)\n",
        "    for edge in precedence_graph_edges:\n",
        "        has_outcoming[int(edge[0])] = True\n",
        "        has_incoming[int(edge[1])] = True\n",
        "    # mark 0 index True, so it won't be counted\n",
        "    has_incoming[0] = True\n",
        "    has_outcoming[0] = True\n",
        "    to_insert_start_activity = has_incoming.count(False) > 1\n",
        "    to_insert_end_activity = has_outcoming.count(False) > 1\n",
        "    for i in range(1, real_num_activities+1):\n",
        "        if to_insert_end_activity and not has_outcoming[i]:\n",
        "            precedence_graph_edges = np.concatenate([precedence_graph_edges, [[i, real_num_activities+1]]])\n",
        "        if not to_insert_start_activity and not has_incoming[i]:\n",
        "            starting_activity = i\n",
        "        if not to_insert_end_activity and not has_outcoming[i]:\n",
        "            end_activity = i\n",
        "\n",
        "    if to_insert_end_activity:\n",
        "        print(\"inserted end activity\")\n",
        "        num_activities += 1\n",
        "        activity_processing_time = np.concatenate([activity_processing_time, [0]])\n",
        "        resourse_consumption = np.concatenate([resourse_consumption, [[0] * number_of_recourses]])\n",
        "        end_activity = real_num_activities+1\n",
        "\n",
        "    # shift numeration to be from zero\n",
        "    if not starting_activity is None:\n",
        "        starting_activity -= 1\n",
        "    end_activity -= 1\n",
        "    for edge in precedence_graph_edges:\n",
        "        edge[0] -= 1\n",
        "        edge[1] -= 1\n",
        "\n",
        "    return num_activities, precedence_graph_edges, activity_processing_time, resourse_consumption, starting_activity, end_activity"
      ],
      "metadata": {
        "id": "Z-F-nLZSounM"
      },
      "execution_count": 61,
      "outputs": []
    },
    {
      "cell_type": "code",
      "source": [
        "num_activities, precedence_graph_edges, activity_processing_time, resourse_consumption, starting_activity, end_activity = add_smart_dummy_activities_no_start(real_num_activities, precedence_graph_edges, activity_processing_time, resourse_consumption)"
      ],
      "metadata": {
        "id": "ukOYSy0r51Kd",
        "colab": {
          "base_uri": "https://localhost:8080/"
        },
        "outputId": "4a651ad6-1733-472d-e632-67310654d1ee"
      },
      "execution_count": 62,
      "outputs": [
        {
          "output_type": "stream",
          "name": "stdout",
          "text": [
            "inserted end activity\n"
          ]
        }
      ]
    },
    {
      "cell_type": "code",
      "source": [
        "def longest_paths_in_postive_graph(G, weigth_func):\n",
        "    # find shortest path for -G, O(V+E)\n",
        "    topological_order = list(nx.topological_sort(G)) # Kahn's algorithm (incoming degrees), O(V+E)\n",
        "    # all incoming weights are non-negative, because of reverse sign of weights, zero weight path is max\n",
        "    shortest_path = np.full_like(activity_processing_time, 0)\n",
        "    for node in topological_order:\n",
        "        for neighbor in G[node]:\n",
        "            if not neighbor is None and shortest_path[neighbor] > shortest_path[node] - weigth_func(node, neighbor):\n",
        "                shortest_path[neighbor] = shortest_path[node] - weigth_func(node, neighbor)\n",
        "    return -shortest_path\n",
        "\n",
        "def calculate_time_windows(precedence_graph_edges, end_activity):\n",
        "    # calculate earliest start\n",
        "    # by finding longest paths from source (start activity) to every node, weights - activity processing time\n",
        "    precedence_graph_edges_with_start_activity = np.copy(precedence_graph_edges)\n",
        "    if starting_activity is None:\n",
        "        precedence_graph_edges_with_start_activity = np.concatenate([[np.array([-1, i]) for i in range(0, num_activities)], precedence_graph_edges_with_start_activity])\n",
        "    G = nx.from_edgelist(precedence_graph_edges_with_start_activity, create_using=nx.DiGraph)\n",
        "    nx.draw(G, with_labels=True)\n",
        "    earliest_start = longest_paths_in_postive_graph(G, lambda u, v: activity_processing_time[u] if u > -1 else 0)\n",
        "    # calculate latest start\n",
        "    latest_start = np.full_like(activity_processing_time, 0)\n",
        "    for activity in range(0, num_activities):\n",
        "        descendants = nx.descendants(G, activity)\n",
        "        for activity2 in range(0, num_activities):\n",
        "            if not (activity2 in descendants):\n",
        "                latest_start[activity] += activity_processing_time[activity2]\n",
        "        latest_start[activity] = min(T, latest_start[activity])\n",
        "    return earliest_start, latest_start"
      ],
      "metadata": {
        "id": "PrCK7eo3ytkI"
      },
      "execution_count": 63,
      "outputs": []
    },
    {
      "cell_type": "code",
      "source": [
        "earliest_start, latest_start = calculate_time_windows(precedence_graph_edges, end_activity)"
      ],
      "metadata": {
        "id": "LRzXDAm52Djq",
        "colab": {
          "base_uri": "https://localhost:8080/",
          "height": 54
        },
        "outputId": "18168a76-9f05-408b-b1ab-ac9a8799f1f9"
      },
      "execution_count": 64,
      "outputs": [
        {
          "output_type": "display_data",
          "data": {
            "text/plain": [
              "<Figure size 640x480 with 1 Axes>"
            ],
            "image/png": "[encoded data removed]"
          },
          "metadata": {}
        }
      ]
    },
    {
      "cell_type": "code",
      "source": [
        "activity_time_index_start = np.empty_like(activity_processing_time)\n",
        "cur_index = 0\n",
        "for i in range(0, num_activities):\n",
        "    activity_time_index_start[i] = cur_index\n",
        "    cur_index += latest_start[i] - earliest_start[i] + 1"
      ],
      "metadata": {
        "id": "e3QLjWUr2Hv8"
      },
      "execution_count": 65,
      "outputs": []
    },
    {
      "cell_type": "code",
      "source": [
        "def activity_time_to_index(activity_index, time_index):\n",
        "    assert(time_index >= earliest_start[activity_index] and time_index <= latest_start[activity_index])\n",
        "    return activity_time_index_start[activity_index] + time_index - earliest_start[activity_index]"
      ],
      "metadata": {
        "id": "tn91eURp2JYP"
      },
      "execution_count": 66,
      "outputs": []
    },
    {
      "cell_type": "code",
      "source": [
        "def from_index_to_activity_time(index):\n",
        "    for i in range(0, num_activities):\n",
        "        if index >= activity_time_index_start[i] and index <= activity_time_index_start[i] + latest_start[i] - earliest_start[i]:\n",
        "            return i, earliest_start[i] + index - activity_time_index_start[i]"
      ],
      "metadata": {
        "id": "V9tiVUFJ2M-a"
      },
      "execution_count": 67,
      "outputs": []
    },
    {
      "cell_type": "markdown",
      "source": [
        "### Solution visulization"
      ],
      "metadata": {
        "id": "1uH38iNHyv0x"
      }
    },
    {
      "cell_type": "code",
      "source": [
        "def visualize_solution(x, offset_activity_num=0):\n",
        "    fig, ax = pl.subplots()\n",
        "    lines = []\n",
        "    for i in range(0, x.shape[0]):\n",
        "        if x[i] == 1:\n",
        "            activity, time = from_index_to_activity_time(i)\n",
        "            print(i, activity, time)\n",
        "            if activity_processing_time[activity] > 0:\n",
        "                lines.append([(time, activity), (time + activity_processing_time[activity], activity)])\n",
        "                ax.text(time + activity_processing_time[activity] / 2, activity + 0.1, f'{activity + offset_activity_num}')\n",
        "\n",
        "    lc = mc.LineCollection(lines, linewidths=2)\n",
        "    ax.add_collection(lc)\n",
        "    ax.set_xlabel('час', fontsize=18)\n",
        "    ax.set_ylabel('дія', fontsize=18)\n",
        "    ax.autoscale()\n",
        "    ax.margins(0.1)"
      ],
      "metadata": {
        "id": "tRxRt80Ip-Hc"
      },
      "execution_count": 68,
      "outputs": []
    },
    {
      "cell_type": "code",
      "source": [
        "opt_x = np.array([1, 0, 1, 0, 0, 1, 0, 0, 1])"
      ],
      "metadata": {
        "id": "JZj1y14KiYqG"
      },
      "execution_count": 70,
      "outputs": []
    },
    {
      "cell_type": "code",
      "source": [
        "visualize_solution(opt_x, 1)"
      ],
      "metadata": {
        "colab": {
          "base_uri": "https://localhost:8080/",
          "height": 548
        },
        "id": "GrAv24Z8p_Xx",
        "outputId": "d2f1a463-a90a-4c5c-a94b-1c76f1cd3df1"
      },
      "execution_count": 71,
      "outputs": [
        {
          "output_type": "stream",
          "name": "stdout",
          "text": [
            "0 0 0\n",
            "2 1 1\n",
            "5 2 1\n",
            "8 3 3\n"
          ]
        },
        {
          "output_type": "display_data",
          "data": {
            "text/plain": [
              "<Figure size 640x480 with 1 Axes>"
            ],
            "image/png": "[encoded data removed]"
          },
          "metadata": {}
        }
      ]
    }
  ]
}